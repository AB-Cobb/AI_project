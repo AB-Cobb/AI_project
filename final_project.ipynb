{
 "cells": [
  {
   "cell_type": "code",
   "execution_count": 1,
   "metadata": {},
   "outputs": [],
   "source": [
    "import pandas as pd\n",
    "import numpy as np"
   ]
  },
  {
   "cell_type": "code",
   "execution_count": 2,
   "metadata": {},
   "outputs": [],
   "source": [
    "#Artic tempurature data"
   ]
  },
  {
   "cell_type": "code",
   "execution_count": 3,
   "metadata": {},
   "outputs": [],
   "source": [
    "climate_alert = pd.read_csv(\"monthy_climate_reports/monthly_climate_alert.csv\")"
   ]
  },
  {
   "cell_type": "code",
   "execution_count": 4,
   "metadata": {
    "scrolled": false
   },
   "outputs": [
    {
     "data": {
      "text/html": [
       "<div>\n",
       "<style scoped>\n",
       "    .dataframe tbody tr th:only-of-type {\n",
       "        vertical-align: middle;\n",
       "    }\n",
       "\n",
       "    .dataframe tbody tr th {\n",
       "        vertical-align: top;\n",
       "    }\n",
       "\n",
       "    .dataframe thead th {\n",
       "        text-align: right;\n",
       "    }\n",
       "</style>\n",
       "<table border=\"1\" class=\"dataframe\">\n",
       "  <thead>\n",
       "    <tr style=\"text-align: right;\">\n",
       "      <th></th>\n",
       "      <th>Longitude (x)</th>\n",
       "      <th>Latitude (y)</th>\n",
       "      <th>Station Name</th>\n",
       "      <th>Climate ID</th>\n",
       "      <th>Date/Time</th>\n",
       "      <th>Year</th>\n",
       "      <th>Month</th>\n",
       "      <th>Mean Max Temp (°C)</th>\n",
       "      <th>Mean Max Temp Flag</th>\n",
       "      <th>Mean Min Temp (°C)</th>\n",
       "      <th>...</th>\n",
       "      <th>Total Snow (cm)</th>\n",
       "      <th>Total Snow Flag</th>\n",
       "      <th>Total Precip (mm)</th>\n",
       "      <th>Total Precip Flag</th>\n",
       "      <th>Snow Grnd Last Day (cm)</th>\n",
       "      <th>Snow Grnd Last Day Flag</th>\n",
       "      <th>Dir of Max Gust (10's deg)</th>\n",
       "      <th>Dir of Max Gust Flag</th>\n",
       "      <th>Spd of Max Gust (km/h)</th>\n",
       "      <th>Spd of Max Gust Flag</th>\n",
       "    </tr>\n",
       "  </thead>\n",
       "  <tbody>\n",
       "    <tr>\n",
       "      <td>0</td>\n",
       "      <td>-62.28</td>\n",
       "      <td>82.52</td>\n",
       "      <td>ALERT</td>\n",
       "      <td>2400300</td>\n",
       "      <td>1950-01</td>\n",
       "      <td>1950</td>\n",
       "      <td>1</td>\n",
       "      <td>NaN</td>\n",
       "      <td>M</td>\n",
       "      <td>NaN</td>\n",
       "      <td>...</td>\n",
       "      <td>NaN</td>\n",
       "      <td>M</td>\n",
       "      <td>NaN</td>\n",
       "      <td>M</td>\n",
       "      <td>NaN</td>\n",
       "      <td>M</td>\n",
       "      <td>NaN</td>\n",
       "      <td>NaN</td>\n",
       "      <td>NaN</td>\n",
       "      <td>NaN</td>\n",
       "    </tr>\n",
       "    <tr>\n",
       "      <td>1</td>\n",
       "      <td>-62.28</td>\n",
       "      <td>82.52</td>\n",
       "      <td>ALERT</td>\n",
       "      <td>2400300</td>\n",
       "      <td>1950-02</td>\n",
       "      <td>1950</td>\n",
       "      <td>2</td>\n",
       "      <td>NaN</td>\n",
       "      <td>M</td>\n",
       "      <td>NaN</td>\n",
       "      <td>...</td>\n",
       "      <td>NaN</td>\n",
       "      <td>M</td>\n",
       "      <td>NaN</td>\n",
       "      <td>M</td>\n",
       "      <td>NaN</td>\n",
       "      <td>M</td>\n",
       "      <td>NaN</td>\n",
       "      <td>NaN</td>\n",
       "      <td>NaN</td>\n",
       "      <td>NaN</td>\n",
       "    </tr>\n",
       "    <tr>\n",
       "      <td>2</td>\n",
       "      <td>-62.28</td>\n",
       "      <td>82.52</td>\n",
       "      <td>ALERT</td>\n",
       "      <td>2400300</td>\n",
       "      <td>1950-03</td>\n",
       "      <td>1950</td>\n",
       "      <td>3</td>\n",
       "      <td>NaN</td>\n",
       "      <td>M</td>\n",
       "      <td>NaN</td>\n",
       "      <td>...</td>\n",
       "      <td>NaN</td>\n",
       "      <td>M</td>\n",
       "      <td>NaN</td>\n",
       "      <td>M</td>\n",
       "      <td>NaN</td>\n",
       "      <td>M</td>\n",
       "      <td>NaN</td>\n",
       "      <td>NaN</td>\n",
       "      <td>NaN</td>\n",
       "      <td>NaN</td>\n",
       "    </tr>\n",
       "    <tr>\n",
       "      <td>3</td>\n",
       "      <td>-62.28</td>\n",
       "      <td>82.52</td>\n",
       "      <td>ALERT</td>\n",
       "      <td>2400300</td>\n",
       "      <td>1950-04</td>\n",
       "      <td>1950</td>\n",
       "      <td>4</td>\n",
       "      <td>NaN</td>\n",
       "      <td>M</td>\n",
       "      <td>NaN</td>\n",
       "      <td>...</td>\n",
       "      <td>NaN</td>\n",
       "      <td>M</td>\n",
       "      <td>NaN</td>\n",
       "      <td>M</td>\n",
       "      <td>NaN</td>\n",
       "      <td>M</td>\n",
       "      <td>NaN</td>\n",
       "      <td>NaN</td>\n",
       "      <td>NaN</td>\n",
       "      <td>NaN</td>\n",
       "    </tr>\n",
       "    <tr>\n",
       "      <td>4</td>\n",
       "      <td>-62.28</td>\n",
       "      <td>82.52</td>\n",
       "      <td>ALERT</td>\n",
       "      <td>2400300</td>\n",
       "      <td>1950-05</td>\n",
       "      <td>1950</td>\n",
       "      <td>5</td>\n",
       "      <td>NaN</td>\n",
       "      <td>M</td>\n",
       "      <td>NaN</td>\n",
       "      <td>...</td>\n",
       "      <td>NaN</td>\n",
       "      <td>M</td>\n",
       "      <td>NaN</td>\n",
       "      <td>M</td>\n",
       "      <td>NaN</td>\n",
       "      <td>M</td>\n",
       "      <td>NaN</td>\n",
       "      <td>NaN</td>\n",
       "      <td>NaN</td>\n",
       "      <td>NaN</td>\n",
       "    </tr>\n",
       "    <tr>\n",
       "      <td>5</td>\n",
       "      <td>-62.28</td>\n",
       "      <td>82.52</td>\n",
       "      <td>ALERT</td>\n",
       "      <td>2400300</td>\n",
       "      <td>1950-06</td>\n",
       "      <td>1950</td>\n",
       "      <td>6</td>\n",
       "      <td>NaN</td>\n",
       "      <td>M</td>\n",
       "      <td>NaN</td>\n",
       "      <td>...</td>\n",
       "      <td>NaN</td>\n",
       "      <td>M</td>\n",
       "      <td>NaN</td>\n",
       "      <td>M</td>\n",
       "      <td>NaN</td>\n",
       "      <td>M</td>\n",
       "      <td>NaN</td>\n",
       "      <td>NaN</td>\n",
       "      <td>NaN</td>\n",
       "      <td>NaN</td>\n",
       "    </tr>\n",
       "    <tr>\n",
       "      <td>6</td>\n",
       "      <td>-62.28</td>\n",
       "      <td>82.52</td>\n",
       "      <td>ALERT</td>\n",
       "      <td>2400300</td>\n",
       "      <td>1950-07</td>\n",
       "      <td>1950</td>\n",
       "      <td>7</td>\n",
       "      <td>9.3</td>\n",
       "      <td>NaN</td>\n",
       "      <td>2.4</td>\n",
       "      <td>...</td>\n",
       "      <td>1.5</td>\n",
       "      <td>NaN</td>\n",
       "      <td>1.5</td>\n",
       "      <td>NaN</td>\n",
       "      <td>0.0</td>\n",
       "      <td>NaN</td>\n",
       "      <td>NaN</td>\n",
       "      <td>NaN</td>\n",
       "      <td>NaN</td>\n",
       "      <td>NaN</td>\n",
       "    </tr>\n",
       "    <tr>\n",
       "      <td>7</td>\n",
       "      <td>-62.28</td>\n",
       "      <td>82.52</td>\n",
       "      <td>ALERT</td>\n",
       "      <td>2400300</td>\n",
       "      <td>1950-08</td>\n",
       "      <td>1950</td>\n",
       "      <td>8</td>\n",
       "      <td>3.9</td>\n",
       "      <td>NaN</td>\n",
       "      <td>-1.3</td>\n",
       "      <td>...</td>\n",
       "      <td>1.3</td>\n",
       "      <td>NaN</td>\n",
       "      <td>1.3</td>\n",
       "      <td>NaN</td>\n",
       "      <td>0.0</td>\n",
       "      <td>T</td>\n",
       "      <td>NaN</td>\n",
       "      <td>NaN</td>\n",
       "      <td>NaN</td>\n",
       "      <td>NaN</td>\n",
       "    </tr>\n",
       "  </tbody>\n",
       "</table>\n",
       "<p>8 rows × 29 columns</p>\n",
       "</div>"
      ],
      "text/plain": [
       "   Longitude (x)  Latitude (y) Station Name  Climate ID Date/Time  Year  \\\n",
       "0         -62.28         82.52        ALERT     2400300   1950-01  1950   \n",
       "1         -62.28         82.52        ALERT     2400300   1950-02  1950   \n",
       "2         -62.28         82.52        ALERT     2400300   1950-03  1950   \n",
       "3         -62.28         82.52        ALERT     2400300   1950-04  1950   \n",
       "4         -62.28         82.52        ALERT     2400300   1950-05  1950   \n",
       "5         -62.28         82.52        ALERT     2400300   1950-06  1950   \n",
       "6         -62.28         82.52        ALERT     2400300   1950-07  1950   \n",
       "7         -62.28         82.52        ALERT     2400300   1950-08  1950   \n",
       "\n",
       "   Month  Mean Max Temp (°C) Mean Max Temp Flag  Mean Min Temp (°C)  ...  \\\n",
       "0      1                 NaN                  M                 NaN  ...   \n",
       "1      2                 NaN                  M                 NaN  ...   \n",
       "2      3                 NaN                  M                 NaN  ...   \n",
       "3      4                 NaN                  M                 NaN  ...   \n",
       "4      5                 NaN                  M                 NaN  ...   \n",
       "5      6                 NaN                  M                 NaN  ...   \n",
       "6      7                 9.3                NaN                 2.4  ...   \n",
       "7      8                 3.9                NaN                -1.3  ...   \n",
       "\n",
       "  Total Snow (cm)  Total Snow Flag Total Precip (mm)  Total Precip Flag  \\\n",
       "0             NaN                M               NaN                  M   \n",
       "1             NaN                M               NaN                  M   \n",
       "2             NaN                M               NaN                  M   \n",
       "3             NaN                M               NaN                  M   \n",
       "4             NaN                M               NaN                  M   \n",
       "5             NaN                M               NaN                  M   \n",
       "6             1.5              NaN               1.5                NaN   \n",
       "7             1.3              NaN               1.3                NaN   \n",
       "\n",
       "  Snow Grnd Last Day (cm)  Snow Grnd Last Day Flag Dir of Max Gust (10's deg)  \\\n",
       "0                     NaN                        M                        NaN   \n",
       "1                     NaN                        M                        NaN   \n",
       "2                     NaN                        M                        NaN   \n",
       "3                     NaN                        M                        NaN   \n",
       "4                     NaN                        M                        NaN   \n",
       "5                     NaN                        M                        NaN   \n",
       "6                     0.0                      NaN                        NaN   \n",
       "7                     0.0                        T                        NaN   \n",
       "\n",
       "   Dir of Max Gust Flag Spd of Max Gust (km/h)  Spd of Max Gust Flag  \n",
       "0                   NaN                    NaN                   NaN  \n",
       "1                   NaN                    NaN                   NaN  \n",
       "2                   NaN                    NaN                   NaN  \n",
       "3                   NaN                    NaN                   NaN  \n",
       "4                   NaN                    NaN                   NaN  \n",
       "5                   NaN                    NaN                   NaN  \n",
       "6                   NaN                    NaN                   NaN  \n",
       "7                   NaN                    NaN                   NaN  \n",
       "\n",
       "[8 rows x 29 columns]"
      ]
     },
     "execution_count": 4,
     "metadata": {},
     "output_type": "execute_result"
    }
   ],
   "source": [
    "climate_alert.head(8)"
   ]
  },
  {
   "cell_type": "code",
   "execution_count": 5,
   "metadata": {},
   "outputs": [
    {
     "data": {
      "text/html": [
       "<div>\n",
       "<style scoped>\n",
       "    .dataframe tbody tr th:only-of-type {\n",
       "        vertical-align: middle;\n",
       "    }\n",
       "\n",
       "    .dataframe tbody tr th {\n",
       "        vertical-align: top;\n",
       "    }\n",
       "\n",
       "    .dataframe thead th {\n",
       "        text-align: right;\n",
       "    }\n",
       "</style>\n",
       "<table border=\"1\" class=\"dataframe\">\n",
       "  <thead>\n",
       "    <tr style=\"text-align: right;\">\n",
       "      <th></th>\n",
       "      <th>Longitude (x)</th>\n",
       "      <th>Latitude (y)</th>\n",
       "      <th>Station Name</th>\n",
       "      <th>Climate ID</th>\n",
       "      <th>Year</th>\n",
       "      <th>Month</th>\n",
       "      <th>Mean Max Temp (°C)</th>\n",
       "      <th>Mean Max Temp Flag</th>\n",
       "      <th>Mean Min Temp (°C)</th>\n",
       "      <th>Mean Min Temp Flag</th>\n",
       "      <th>...</th>\n",
       "      <th>Total Snow (cm)</th>\n",
       "      <th>Total Snow Flag</th>\n",
       "      <th>Total Precip (mm)</th>\n",
       "      <th>Total Precip Flag</th>\n",
       "      <th>Snow Grnd Last Day (cm)</th>\n",
       "      <th>Snow Grnd Last Day Flag</th>\n",
       "      <th>Dir of Max Gust (10's deg)</th>\n",
       "      <th>Dir of Max Gust Flag</th>\n",
       "      <th>Spd of Max Gust (km/h)</th>\n",
       "      <th>Spd of Max Gust Flag</th>\n",
       "    </tr>\n",
       "    <tr>\n",
       "      <th>Date/Time</th>\n",
       "      <th></th>\n",
       "      <th></th>\n",
       "      <th></th>\n",
       "      <th></th>\n",
       "      <th></th>\n",
       "      <th></th>\n",
       "      <th></th>\n",
       "      <th></th>\n",
       "      <th></th>\n",
       "      <th></th>\n",
       "      <th></th>\n",
       "      <th></th>\n",
       "      <th></th>\n",
       "      <th></th>\n",
       "      <th></th>\n",
       "      <th></th>\n",
       "      <th></th>\n",
       "      <th></th>\n",
       "      <th></th>\n",
       "      <th></th>\n",
       "      <th></th>\n",
       "    </tr>\n",
       "  </thead>\n",
       "  <tbody>\n",
       "    <tr>\n",
       "      <td>1950-01</td>\n",
       "      <td>-62.28</td>\n",
       "      <td>82.52</td>\n",
       "      <td>ALERT</td>\n",
       "      <td>2400300</td>\n",
       "      <td>1950</td>\n",
       "      <td>1</td>\n",
       "      <td>NaN</td>\n",
       "      <td>M</td>\n",
       "      <td>NaN</td>\n",
       "      <td>M</td>\n",
       "      <td>...</td>\n",
       "      <td>NaN</td>\n",
       "      <td>M</td>\n",
       "      <td>NaN</td>\n",
       "      <td>M</td>\n",
       "      <td>NaN</td>\n",
       "      <td>M</td>\n",
       "      <td>NaN</td>\n",
       "      <td>NaN</td>\n",
       "      <td>NaN</td>\n",
       "      <td>NaN</td>\n",
       "    </tr>\n",
       "    <tr>\n",
       "      <td>1950-02</td>\n",
       "      <td>-62.28</td>\n",
       "      <td>82.52</td>\n",
       "      <td>ALERT</td>\n",
       "      <td>2400300</td>\n",
       "      <td>1950</td>\n",
       "      <td>2</td>\n",
       "      <td>NaN</td>\n",
       "      <td>M</td>\n",
       "      <td>NaN</td>\n",
       "      <td>M</td>\n",
       "      <td>...</td>\n",
       "      <td>NaN</td>\n",
       "      <td>M</td>\n",
       "      <td>NaN</td>\n",
       "      <td>M</td>\n",
       "      <td>NaN</td>\n",
       "      <td>M</td>\n",
       "      <td>NaN</td>\n",
       "      <td>NaN</td>\n",
       "      <td>NaN</td>\n",
       "      <td>NaN</td>\n",
       "    </tr>\n",
       "    <tr>\n",
       "      <td>1950-03</td>\n",
       "      <td>-62.28</td>\n",
       "      <td>82.52</td>\n",
       "      <td>ALERT</td>\n",
       "      <td>2400300</td>\n",
       "      <td>1950</td>\n",
       "      <td>3</td>\n",
       "      <td>NaN</td>\n",
       "      <td>M</td>\n",
       "      <td>NaN</td>\n",
       "      <td>M</td>\n",
       "      <td>...</td>\n",
       "      <td>NaN</td>\n",
       "      <td>M</td>\n",
       "      <td>NaN</td>\n",
       "      <td>M</td>\n",
       "      <td>NaN</td>\n",
       "      <td>M</td>\n",
       "      <td>NaN</td>\n",
       "      <td>NaN</td>\n",
       "      <td>NaN</td>\n",
       "      <td>NaN</td>\n",
       "    </tr>\n",
       "    <tr>\n",
       "      <td>1950-04</td>\n",
       "      <td>-62.28</td>\n",
       "      <td>82.52</td>\n",
       "      <td>ALERT</td>\n",
       "      <td>2400300</td>\n",
       "      <td>1950</td>\n",
       "      <td>4</td>\n",
       "      <td>NaN</td>\n",
       "      <td>M</td>\n",
       "      <td>NaN</td>\n",
       "      <td>M</td>\n",
       "      <td>...</td>\n",
       "      <td>NaN</td>\n",
       "      <td>M</td>\n",
       "      <td>NaN</td>\n",
       "      <td>M</td>\n",
       "      <td>NaN</td>\n",
       "      <td>M</td>\n",
       "      <td>NaN</td>\n",
       "      <td>NaN</td>\n",
       "      <td>NaN</td>\n",
       "      <td>NaN</td>\n",
       "    </tr>\n",
       "    <tr>\n",
       "      <td>1950-05</td>\n",
       "      <td>-62.28</td>\n",
       "      <td>82.52</td>\n",
       "      <td>ALERT</td>\n",
       "      <td>2400300</td>\n",
       "      <td>1950</td>\n",
       "      <td>5</td>\n",
       "      <td>NaN</td>\n",
       "      <td>M</td>\n",
       "      <td>NaN</td>\n",
       "      <td>M</td>\n",
       "      <td>...</td>\n",
       "      <td>NaN</td>\n",
       "      <td>M</td>\n",
       "      <td>NaN</td>\n",
       "      <td>M</td>\n",
       "      <td>NaN</td>\n",
       "      <td>M</td>\n",
       "      <td>NaN</td>\n",
       "      <td>NaN</td>\n",
       "      <td>NaN</td>\n",
       "      <td>NaN</td>\n",
       "    </tr>\n",
       "    <tr>\n",
       "      <td>...</td>\n",
       "      <td>...</td>\n",
       "      <td>...</td>\n",
       "      <td>...</td>\n",
       "      <td>...</td>\n",
       "      <td>...</td>\n",
       "      <td>...</td>\n",
       "      <td>...</td>\n",
       "      <td>...</td>\n",
       "      <td>...</td>\n",
       "      <td>...</td>\n",
       "      <td>...</td>\n",
       "      <td>...</td>\n",
       "      <td>...</td>\n",
       "      <td>...</td>\n",
       "      <td>...</td>\n",
       "      <td>...</td>\n",
       "      <td>...</td>\n",
       "      <td>...</td>\n",
       "      <td>...</td>\n",
       "      <td>...</td>\n",
       "      <td>...</td>\n",
       "    </tr>\n",
       "    <tr>\n",
       "      <td>2006-06</td>\n",
       "      <td>-62.28</td>\n",
       "      <td>82.52</td>\n",
       "      <td>ALERT</td>\n",
       "      <td>2400300</td>\n",
       "      <td>2006</td>\n",
       "      <td>6</td>\n",
       "      <td>1.2</td>\n",
       "      <td>NaN</td>\n",
       "      <td>-3.2</td>\n",
       "      <td>NaN</td>\n",
       "      <td>...</td>\n",
       "      <td>NaN</td>\n",
       "      <td>NaN</td>\n",
       "      <td>0.0</td>\n",
       "      <td>NaN</td>\n",
       "      <td>NaN</td>\n",
       "      <td>NaN</td>\n",
       "      <td>NaN</td>\n",
       "      <td>NaN</td>\n",
       "      <td>NaN</td>\n",
       "      <td>NaN</td>\n",
       "    </tr>\n",
       "    <tr>\n",
       "      <td>2006-07</td>\n",
       "      <td>-62.28</td>\n",
       "      <td>82.52</td>\n",
       "      <td>ALERT</td>\n",
       "      <td>2400300</td>\n",
       "      <td>2006</td>\n",
       "      <td>7</td>\n",
       "      <td>6.8</td>\n",
       "      <td>I</td>\n",
       "      <td>0.8</td>\n",
       "      <td>I</td>\n",
       "      <td>...</td>\n",
       "      <td>NaN</td>\n",
       "      <td>NaN</td>\n",
       "      <td>0.0</td>\n",
       "      <td>NaN</td>\n",
       "      <td>0.0</td>\n",
       "      <td>NaN</td>\n",
       "      <td>NaN</td>\n",
       "      <td>NaN</td>\n",
       "      <td>NaN</td>\n",
       "      <td>NaN</td>\n",
       "    </tr>\n",
       "    <tr>\n",
       "      <td>2006-08</td>\n",
       "      <td>-62.28</td>\n",
       "      <td>82.52</td>\n",
       "      <td>ALERT</td>\n",
       "      <td>2400300</td>\n",
       "      <td>2006</td>\n",
       "      <td>8</td>\n",
       "      <td>2.2</td>\n",
       "      <td>NaN</td>\n",
       "      <td>-3.3</td>\n",
       "      <td>NaN</td>\n",
       "      <td>...</td>\n",
       "      <td>NaN</td>\n",
       "      <td>NaN</td>\n",
       "      <td>0.0</td>\n",
       "      <td>NaN</td>\n",
       "      <td>NaN</td>\n",
       "      <td>M</td>\n",
       "      <td>NaN</td>\n",
       "      <td>NaN</td>\n",
       "      <td>NaN</td>\n",
       "      <td>NaN</td>\n",
       "    </tr>\n",
       "    <tr>\n",
       "      <td>2006-09</td>\n",
       "      <td>-62.28</td>\n",
       "      <td>82.52</td>\n",
       "      <td>ALERT</td>\n",
       "      <td>2400300</td>\n",
       "      <td>2006</td>\n",
       "      <td>9</td>\n",
       "      <td>-3.0</td>\n",
       "      <td>NaN</td>\n",
       "      <td>-8.4</td>\n",
       "      <td>NaN</td>\n",
       "      <td>...</td>\n",
       "      <td>NaN</td>\n",
       "      <td>NaN</td>\n",
       "      <td>0.0</td>\n",
       "      <td>NaN</td>\n",
       "      <td>NaN</td>\n",
       "      <td>NaN</td>\n",
       "      <td>NaN</td>\n",
       "      <td>NaN</td>\n",
       "      <td>NaN</td>\n",
       "      <td>NaN</td>\n",
       "    </tr>\n",
       "    <tr>\n",
       "      <td>2006-10</td>\n",
       "      <td>-62.28</td>\n",
       "      <td>82.52</td>\n",
       "      <td>ALERT</td>\n",
       "      <td>2400300</td>\n",
       "      <td>2006</td>\n",
       "      <td>10</td>\n",
       "      <td>-16.4</td>\n",
       "      <td>I</td>\n",
       "      <td>-25.1</td>\n",
       "      <td>I</td>\n",
       "      <td>...</td>\n",
       "      <td>NaN</td>\n",
       "      <td>NaN</td>\n",
       "      <td>0.0</td>\n",
       "      <td>NaN</td>\n",
       "      <td>NaN</td>\n",
       "      <td>NaN</td>\n",
       "      <td>NaN</td>\n",
       "      <td>NaN</td>\n",
       "      <td>NaN</td>\n",
       "      <td>NaN</td>\n",
       "    </tr>\n",
       "  </tbody>\n",
       "</table>\n",
       "<p>682 rows × 28 columns</p>\n",
       "</div>"
      ],
      "text/plain": [
       "           Longitude (x)  Latitude (y) Station Name  Climate ID  Year  Month  \\\n",
       "Date/Time                                                                      \n",
       "1950-01           -62.28         82.52        ALERT     2400300  1950      1   \n",
       "1950-02           -62.28         82.52        ALERT     2400300  1950      2   \n",
       "1950-03           -62.28         82.52        ALERT     2400300  1950      3   \n",
       "1950-04           -62.28         82.52        ALERT     2400300  1950      4   \n",
       "1950-05           -62.28         82.52        ALERT     2400300  1950      5   \n",
       "...                  ...           ...          ...         ...   ...    ...   \n",
       "2006-06           -62.28         82.52        ALERT     2400300  2006      6   \n",
       "2006-07           -62.28         82.52        ALERT     2400300  2006      7   \n",
       "2006-08           -62.28         82.52        ALERT     2400300  2006      8   \n",
       "2006-09           -62.28         82.52        ALERT     2400300  2006      9   \n",
       "2006-10           -62.28         82.52        ALERT     2400300  2006     10   \n",
       "\n",
       "           Mean Max Temp (°C) Mean Max Temp Flag  Mean Min Temp (°C)  \\\n",
       "Date/Time                                                              \n",
       "1950-01                   NaN                  M                 NaN   \n",
       "1950-02                   NaN                  M                 NaN   \n",
       "1950-03                   NaN                  M                 NaN   \n",
       "1950-04                   NaN                  M                 NaN   \n",
       "1950-05                   NaN                  M                 NaN   \n",
       "...                       ...                ...                 ...   \n",
       "2006-06                   1.2                NaN                -3.2   \n",
       "2006-07                   6.8                  I                 0.8   \n",
       "2006-08                   2.2                NaN                -3.3   \n",
       "2006-09                  -3.0                NaN                -8.4   \n",
       "2006-10                 -16.4                  I               -25.1   \n",
       "\n",
       "          Mean Min Temp Flag  ...  Total Snow (cm) Total Snow Flag  \\\n",
       "Date/Time                     ...                                    \n",
       "1950-01                    M  ...              NaN               M   \n",
       "1950-02                    M  ...              NaN               M   \n",
       "1950-03                    M  ...              NaN               M   \n",
       "1950-04                    M  ...              NaN               M   \n",
       "1950-05                    M  ...              NaN               M   \n",
       "...                      ...  ...              ...             ...   \n",
       "2006-06                  NaN  ...              NaN             NaN   \n",
       "2006-07                    I  ...              NaN             NaN   \n",
       "2006-08                  NaN  ...              NaN             NaN   \n",
       "2006-09                  NaN  ...              NaN             NaN   \n",
       "2006-10                    I  ...              NaN             NaN   \n",
       "\n",
       "           Total Precip (mm) Total Precip Flag  Snow Grnd Last Day (cm)  \\\n",
       "Date/Time                                                                 \n",
       "1950-01                  NaN                 M                      NaN   \n",
       "1950-02                  NaN                 M                      NaN   \n",
       "1950-03                  NaN                 M                      NaN   \n",
       "1950-04                  NaN                 M                      NaN   \n",
       "1950-05                  NaN                 M                      NaN   \n",
       "...                      ...               ...                      ...   \n",
       "2006-06                  0.0               NaN                      NaN   \n",
       "2006-07                  0.0               NaN                      0.0   \n",
       "2006-08                  0.0               NaN                      NaN   \n",
       "2006-09                  0.0               NaN                      NaN   \n",
       "2006-10                  0.0               NaN                      NaN   \n",
       "\n",
       "          Snow Grnd Last Day Flag  Dir of Max Gust (10's deg)  \\\n",
       "Date/Time                                                       \n",
       "1950-01                         M                         NaN   \n",
       "1950-02                         M                         NaN   \n",
       "1950-03                         M                         NaN   \n",
       "1950-04                         M                         NaN   \n",
       "1950-05                         M                         NaN   \n",
       "...                           ...                         ...   \n",
       "2006-06                       NaN                         NaN   \n",
       "2006-07                       NaN                         NaN   \n",
       "2006-08                         M                         NaN   \n",
       "2006-09                       NaN                         NaN   \n",
       "2006-10                       NaN                         NaN   \n",
       "\n",
       "          Dir of Max Gust Flag  Spd of Max Gust (km/h) Spd of Max Gust Flag  \n",
       "Date/Time                                                                    \n",
       "1950-01                    NaN                     NaN                  NaN  \n",
       "1950-02                    NaN                     NaN                  NaN  \n",
       "1950-03                    NaN                     NaN                  NaN  \n",
       "1950-04                    NaN                     NaN                  NaN  \n",
       "1950-05                    NaN                     NaN                  NaN  \n",
       "...                        ...                     ...                  ...  \n",
       "2006-06                    NaN                     NaN                  NaN  \n",
       "2006-07                    NaN                     NaN                  NaN  \n",
       "2006-08                    NaN                     NaN                  NaN  \n",
       "2006-09                    NaN                     NaN                  NaN  \n",
       "2006-10                    NaN                     NaN                  NaN  \n",
       "\n",
       "[682 rows x 28 columns]"
      ]
     },
     "execution_count": 5,
     "metadata": {},
     "output_type": "execute_result"
    }
   ],
   "source": [
    "climate_alert.set_index(\"Date/Time\")"
   ]
  },
  {
   "cell_type": "code",
   "execution_count": 6,
   "metadata": {},
   "outputs": [
    {
     "data": {
      "text/plain": [
       "<matplotlib.axes._subplots.AxesSubplot at 0x1efa1223e80>"
      ]
     },
     "execution_count": 6,
     "metadata": {},
     "output_type": "execute_result"
    }
   ],
   "source": [
    "climate_alert['Mean Temp (°C)'].plot.line()"
   ]
  },
  {
   "cell_type": "code",
   "execution_count": null,
   "metadata": {},
   "outputs": [],
   "source": []
  },
  {
   "cell_type": "code",
   "execution_count": 7,
   "metadata": {},
   "outputs": [],
   "source": [
    "climate_cape_dorset = pd.read_csv(\"monthy_climate_reports/monthly_climate_cape_dorset.csv\")\n",
    "climate_eureka = pd.read_csv(\"monthy_climate_reports/monthly_climate_eureka.csv\")\n",
    "climate_hall_beach = pd.read_csv(\"monthy_climate_reports/monthly_climate_eureka.csv\")\n",
    "climate_iqaluit = pd.read_csv(\"monthy_climate_reports/monthly_climate_iqaluit.csv\")\n",
    "climate_resolute = pd.read_csv(\"monthy_climate_reports/monthly_climate_resolute.csv\")"
   ]
  },
  {
   "cell_type": "code",
   "execution_count": 8,
   "metadata": {},
   "outputs": [],
   "source": [
    "def get_yearly_mean(climateDF): #calculate yearly mean tempurature dropping complete years\n",
    "    complete_years = climateDF.groupby('Year')['Mean Temp (°C)'].count() == 12\n",
    "    mean_temp = climateDF.groupby([\"Year\"]).aggregate({\"Mean Temp (°C)\":np.mean})\n",
    "    return mean_temp[complete_years]"
   ]
  },
  {
   "cell_type": "code",
   "execution_count": 9,
   "metadata": {},
   "outputs": [
    {
     "data": {
      "text/html": [
       "<div>\n",
       "<style scoped>\n",
       "    .dataframe tbody tr th:only-of-type {\n",
       "        vertical-align: middle;\n",
       "    }\n",
       "\n",
       "    .dataframe tbody tr th {\n",
       "        vertical-align: top;\n",
       "    }\n",
       "\n",
       "    .dataframe thead th {\n",
       "        text-align: right;\n",
       "    }\n",
       "</style>\n",
       "<table border=\"1\" class=\"dataframe\">\n",
       "  <thead>\n",
       "    <tr style=\"text-align: right;\">\n",
       "      <th></th>\n",
       "    </tr>\n",
       "  </thead>\n",
       "  <tbody>\n",
       "    <tr>\n",
       "      <td>1947</td>\n",
       "    </tr>\n",
       "    <tr>\n",
       "      <td>1948</td>\n",
       "    </tr>\n",
       "    <tr>\n",
       "      <td>1949</td>\n",
       "    </tr>\n",
       "    <tr>\n",
       "      <td>1950</td>\n",
       "    </tr>\n",
       "    <tr>\n",
       "      <td>1951</td>\n",
       "    </tr>\n",
       "    <tr>\n",
       "      <td>...</td>\n",
       "    </tr>\n",
       "    <tr>\n",
       "      <td>2011</td>\n",
       "    </tr>\n",
       "    <tr>\n",
       "      <td>2012</td>\n",
       "    </tr>\n",
       "    <tr>\n",
       "      <td>2013</td>\n",
       "    </tr>\n",
       "    <tr>\n",
       "      <td>2014</td>\n",
       "    </tr>\n",
       "    <tr>\n",
       "      <td>2015</td>\n",
       "    </tr>\n",
       "  </tbody>\n",
       "</table>\n",
       "<p>69 rows × 0 columns</p>\n",
       "</div>"
      ],
      "text/plain": [
       "Empty DataFrame\n",
       "Columns: []\n",
       "Index: [1947, 1948, 1949, 1950, 1951, 1952, 1953, 1954, 1955, 1956, 1957, 1958, 1959, 1960, 1961, 1962, 1963, 1964, 1965, 1966, 1967, 1968, 1969, 1970, 1971, 1972, 1973, 1974, 1975, 1976, 1977, 1978, 1979, 1980, 1981, 1982, 1983, 1984, 1985, 1986, 1987, 1988, 1989, 1990, 1991, 1992, 1993, 1994, 1995, 1996, 1997, 1998, 1999, 2000, 2001, 2002, 2003, 2004, 2005, 2006, 2007, 2008, 2009, 2010, 2011, 2012, 2013, 2014, 2015]\n",
       "\n",
       "[69 rows x 0 columns]"
      ]
     },
     "execution_count": 9,
     "metadata": {},
     "output_type": "execute_result"
    }
   ],
   "source": [
    "yearly_mean_temps = pd.DataFrame(index = np.arange(1947,2016))\n",
    "yearly_mean_temps"
   ]
  },
  {
   "cell_type": "code",
   "execution_count": 10,
   "metadata": {},
   "outputs": [],
   "source": [
    "yearly_mean_temps['alert'] = get_yearly_mean(climate_alert)\n",
    "yearly_mean_temps['cape_dorset']= get_yearly_mean(climate_cape_dorset)\n",
    "yearly_mean_temps['eureka']= get_yearly_mean(climate_eureka)\n",
    "yearly_mean_temps['hall_beach']= get_yearly_mean(climate_hall_beach)\n",
    "yearly_mean_temps['iqaluit']= get_yearly_mean(climate_iqaluit)\n",
    "yearly_mean_temps['resolute']= get_yearly_mean(climate_resolute)"
   ]
  },
  {
   "cell_type": "code",
   "execution_count": 11,
   "metadata": {},
   "outputs": [
    {
     "data": {
      "text/html": [
       "<div>\n",
       "<style scoped>\n",
       "    .dataframe tbody tr th:only-of-type {\n",
       "        vertical-align: middle;\n",
       "    }\n",
       "\n",
       "    .dataframe tbody tr th {\n",
       "        vertical-align: top;\n",
       "    }\n",
       "\n",
       "    .dataframe thead th {\n",
       "        text-align: right;\n",
       "    }\n",
       "</style>\n",
       "<table border=\"1\" class=\"dataframe\">\n",
       "  <thead>\n",
       "    <tr style=\"text-align: right;\">\n",
       "      <th></th>\n",
       "      <th>alert</th>\n",
       "      <th>cape_dorset</th>\n",
       "      <th>eureka</th>\n",
       "      <th>hall_beach</th>\n",
       "      <th>iqaluit</th>\n",
       "      <th>resolute</th>\n",
       "    </tr>\n",
       "  </thead>\n",
       "  <tbody>\n",
       "    <tr>\n",
       "      <td>1947</td>\n",
       "      <td>NaN</td>\n",
       "      <td>NaN</td>\n",
       "      <td>NaN</td>\n",
       "      <td>NaN</td>\n",
       "      <td>-6.966667</td>\n",
       "      <td>NaN</td>\n",
       "    </tr>\n",
       "    <tr>\n",
       "      <td>1948</td>\n",
       "      <td>NaN</td>\n",
       "      <td>NaN</td>\n",
       "      <td>-19.950000</td>\n",
       "      <td>-19.950000</td>\n",
       "      <td>-8.758333</td>\n",
       "      <td>-16.983333</td>\n",
       "    </tr>\n",
       "    <tr>\n",
       "      <td>1949</td>\n",
       "      <td>NaN</td>\n",
       "      <td>NaN</td>\n",
       "      <td>-19.641667</td>\n",
       "      <td>-19.641667</td>\n",
       "      <td>-9.816667</td>\n",
       "      <td>-16.800000</td>\n",
       "    </tr>\n",
       "    <tr>\n",
       "      <td>1950</td>\n",
       "      <td>NaN</td>\n",
       "      <td>NaN</td>\n",
       "      <td>-19.825000</td>\n",
       "      <td>-19.825000</td>\n",
       "      <td>-9.141667</td>\n",
       "      <td>-16.758333</td>\n",
       "    </tr>\n",
       "    <tr>\n",
       "      <td>1951</td>\n",
       "      <td>-18.566667</td>\n",
       "      <td>NaN</td>\n",
       "      <td>-19.433333</td>\n",
       "      <td>-19.433333</td>\n",
       "      <td>-9.441667</td>\n",
       "      <td>-16.108333</td>\n",
       "    </tr>\n",
       "    <tr>\n",
       "      <td>...</td>\n",
       "      <td>...</td>\n",
       "      <td>...</td>\n",
       "      <td>...</td>\n",
       "      <td>...</td>\n",
       "      <td>...</td>\n",
       "      <td>...</td>\n",
       "    </tr>\n",
       "    <tr>\n",
       "      <td>2011</td>\n",
       "      <td>NaN</td>\n",
       "      <td>NaN</td>\n",
       "      <td>-17.291667</td>\n",
       "      <td>-17.291667</td>\n",
       "      <td>NaN</td>\n",
       "      <td>-13.891667</td>\n",
       "    </tr>\n",
       "    <tr>\n",
       "      <td>2012</td>\n",
       "      <td>NaN</td>\n",
       "      <td>NaN</td>\n",
       "      <td>-17.483333</td>\n",
       "      <td>-17.483333</td>\n",
       "      <td>NaN</td>\n",
       "      <td>-13.791667</td>\n",
       "    </tr>\n",
       "    <tr>\n",
       "      <td>2013</td>\n",
       "      <td>NaN</td>\n",
       "      <td>NaN</td>\n",
       "      <td>-19.875000</td>\n",
       "      <td>-19.875000</td>\n",
       "      <td>NaN</td>\n",
       "      <td>NaN</td>\n",
       "    </tr>\n",
       "    <tr>\n",
       "      <td>2014</td>\n",
       "      <td>NaN</td>\n",
       "      <td>NaN</td>\n",
       "      <td>-18.483333</td>\n",
       "      <td>-18.483333</td>\n",
       "      <td>NaN</td>\n",
       "      <td>NaN</td>\n",
       "    </tr>\n",
       "    <tr>\n",
       "      <td>2015</td>\n",
       "      <td>NaN</td>\n",
       "      <td>NaN</td>\n",
       "      <td>-18.150000</td>\n",
       "      <td>-18.150000</td>\n",
       "      <td>NaN</td>\n",
       "      <td>NaN</td>\n",
       "    </tr>\n",
       "  </tbody>\n",
       "</table>\n",
       "<p>69 rows × 6 columns</p>\n",
       "</div>"
      ],
      "text/plain": [
       "          alert  cape_dorset     eureka  hall_beach   iqaluit   resolute\n",
       "1947        NaN          NaN        NaN         NaN -6.966667        NaN\n",
       "1948        NaN          NaN -19.950000  -19.950000 -8.758333 -16.983333\n",
       "1949        NaN          NaN -19.641667  -19.641667 -9.816667 -16.800000\n",
       "1950        NaN          NaN -19.825000  -19.825000 -9.141667 -16.758333\n",
       "1951 -18.566667          NaN -19.433333  -19.433333 -9.441667 -16.108333\n",
       "...         ...          ...        ...         ...       ...        ...\n",
       "2011        NaN          NaN -17.291667  -17.291667       NaN -13.891667\n",
       "2012        NaN          NaN -17.483333  -17.483333       NaN -13.791667\n",
       "2013        NaN          NaN -19.875000  -19.875000       NaN        NaN\n",
       "2014        NaN          NaN -18.483333  -18.483333       NaN        NaN\n",
       "2015        NaN          NaN -18.150000  -18.150000       NaN        NaN\n",
       "\n",
       "[69 rows x 6 columns]"
      ]
     },
     "execution_count": 11,
     "metadata": {},
     "output_type": "execute_result"
    }
   ],
   "source": [
    "yearly_mean_temps"
   ]
  },
  {
   "cell_type": "code",
   "execution_count": 12,
   "metadata": {},
   "outputs": [
    {
     "data": {
      "text/plain": [
       "<matplotlib.axes._subplots.AxesSubplot at 0x1efa13abc88>"
      ]
     },
     "execution_count": 12,
     "metadata": {},
     "output_type": "execute_result"
    },
    {
     "data": {
      "image/png": "[encoded data removed]",
      "text/plain": [
       "<Figure size 432x288 with 1 Axes>"
      ]
     },
     "metadata": {
      "needs_background": "light"
     },
     "output_type": "display_data"
    }
   ],
   "source": [
    "yearly_mean_temps.plot.line(title=\"Yearly mean tempuratures by weather station\" )"
   ]
  },
  {
   "cell_type": "code",
   "execution_count": null,
   "metadata": {},
   "outputs": [],
   "source": []
  },
  {
   "cell_type": "code",
   "execution_count": null,
   "metadata": {},
   "outputs": [],
   "source": []
  },
  {
   "cell_type": "code",
   "execution_count": null,
   "metadata": {},
   "outputs": [],
   "source": []
  },
  {
   "cell_type": "code",
   "execution_count": 13,
   "metadata": {},
   "outputs": [
    {
     "data": {
      "text/plain": [
       "<matplotlib.axes._subplots.AxesSubplot at 0x1efa27aac18>"
      ]
     },
     "execution_count": 13,
     "metadata": {},
     "output_type": "execute_result"
    },
    {
     "data": {
      "image/png": "[encoded data removed]",
      "text/plain": [
       "<Figure size 432x288 with 1 Axes>"
      ]
     },
     "metadata": {
      "needs_background": "light"
     },
     "output_type": "display_data"
    }
   ],
   "source": [
    "\n",
    "yearly_mean_temps['artic_mean'] = yearly_mean_temps[['alert','resolute','hall_beach']].mean(axis=1)\n",
    "yearly_mean_temps['artic_mean'].plot.line(title=\"Yearly Mean tempuratures, artic region\")"
   ]
  },
  {
   "cell_type": "code",
   "execution_count": null,
   "metadata": {},
   "outputs": [],
   "source": []
  },
  {
   "cell_type": "code",
   "execution_count": 14,
   "metadata": {},
   "outputs": [
    {
     "data": {
      "text/plain": [
       "<matplotlib.axes._subplots.AxesSubplot at 0x1efa283f898>"
      ]
     },
     "execution_count": 14,
     "metadata": {},
     "output_type": "execute_result"
    },
    {
     "data": {
      "image/png": "[encoded data removed]",
      "text/plain": [
       "<Figure size 432x288 with 1 Axes>"
      ]
     },
     "metadata": {
      "needs_background": "light"
     },
     "output_type": "display_data"
    }
   ],
   "source": [
    "yearly_mean_temps['sub_artic_mean'] = yearly_mean_temps[['iqaluit','cape_dorset','hall_beach']].mean(axis=1)\n",
    "yearly_mean_temps['sub_artic_mean'].plot.line(title=\"Yearly Mean tempuratures, sub artic region\")"
   ]
  },
  {
   "cell_type": "code",
   "execution_count": 15,
   "metadata": {},
   "outputs": [],
   "source": [
    "# \n",
    "#****** Sea Ice data ******\n"
   ]
  },
  {
   "cell_type": "code",
   "execution_count": 16,
   "metadata": {},
   "outputs": [],
   "source": [
    "sea_ice_can = pd.read_csv('https://www.canada.ca/content/dam/eccc/documents/csv/cesindicators/sea-ice/2019/1.SeaIce-NCW-EN.csv')"
   ]
  },
  {
   "cell_type": "code",
   "execution_count": 17,
   "metadata": {},
   "outputs": [],
   "source": [
    "sea_ice_artic_sub_region = pd.read_csv('https://www.canada.ca/content/dam/eccc/documents/csv/cesindicators/sea-ice/2019/2.SeaIce-NCW-Regional-EN.csv')"
   ]
  },
  {
   "cell_type": "code",
   "execution_count": 18,
   "metadata": {},
   "outputs": [],
   "source": [
    "sea_ice_multi_year = pd.read_csv('https://www.canada.ca/content/dam/eccc/documents/csv/cesindicators/sea-ice/2019/3.SeaIce-MultiYear-EN.csv')"
   ]
  },
  {
   "cell_type": "code",
   "execution_count": 19,
   "metadata": {},
   "outputs": [],
   "source": [
    "sea_ice_multi_year_regional = pd.read_csv('https://www.canada.ca/content/dam/eccc/documents/csv/cesindicators/sea-ice/2019/4.SeaIce-MultiYear-Regional-EN.csv')"
   ]
  },
  {
   "cell_type": "code",
   "execution_count": 20,
   "metadata": {},
   "outputs": [],
   "source": [
    "data5 = pd.read_csv('https://www.canada.ca/content/dam/eccc/documents/csv/cesindicators/sea-ice/2019/5.SeaIce-NorthwestPassage-EN.csv')"
   ]
  },
  {
   "cell_type": "code",
   "execution_count": 21,
   "metadata": {},
   "outputs": [],
   "source": [
    "%matplotlib inline"
   ]
  },
  {
   "cell_type": "code",
   "execution_count": 22,
   "metadata": {},
   "outputs": [],
   "source": [
    "sea_ice_can.drop([0, 1, 53, 54, 55, 56], inplace=True)"
   ]
  },
  {
   "cell_type": "code",
   "execution_count": 23,
   "metadata": {},
   "outputs": [
    {
     "data": {
      "text/plain": [
       "Index(['Average sea ice area, Northern Canadian Waters, 1968 to 2018', 'Unnamed: 1'], dtype='object')"
      ]
     },
     "execution_count": 23,
     "metadata": {},
     "output_type": "execute_result"
    }
   ],
   "source": [
    "sea_ice_can.columns"
   ]
  },
  {
   "cell_type": "code",
   "execution_count": null,
   "metadata": {},
   "outputs": [],
   "source": []
  },
  {
   "cell_type": "code",
   "execution_count": 24,
   "metadata": {},
   "outputs": [],
   "source": [
    "sea_ice_can.rename(columns = {'Average sea ice area, Northern Canadian Waters, 1968 to 2018':'Year', 'Unnamed: 1':'sea ice area'}, inplace=True)"
   ]
  },
  {
   "cell_type": "code",
   "execution_count": null,
   "metadata": {},
   "outputs": [],
   "source": []
  },
  {
   "cell_type": "code",
   "execution_count": 25,
   "metadata": {},
   "outputs": [
    {
     "data": {
      "text/html": [
       "<div>\n",
       "<style scoped>\n",
       "    .dataframe tbody tr th:only-of-type {\n",
       "        vertical-align: middle;\n",
       "    }\n",
       "\n",
       "    .dataframe tbody tr th {\n",
       "        vertical-align: top;\n",
       "    }\n",
       "\n",
       "    .dataframe thead th {\n",
       "        text-align: right;\n",
       "    }\n",
       "</style>\n",
       "<table border=\"1\" class=\"dataframe\">\n",
       "  <thead>\n",
       "    <tr style=\"text-align: right;\">\n",
       "      <th></th>\n",
       "      <th>Year</th>\n",
       "      <th>sea ice area</th>\n",
       "    </tr>\n",
       "  </thead>\n",
       "  <tbody>\n",
       "    <tr>\n",
       "      <td>2</td>\n",
       "      <td>1968</td>\n",
       "      <td>1.26</td>\n",
       "    </tr>\n",
       "    <tr>\n",
       "      <td>3</td>\n",
       "      <td>1969</td>\n",
       "      <td>1.53</td>\n",
       "    </tr>\n",
       "    <tr>\n",
       "      <td>4</td>\n",
       "      <td>1970</td>\n",
       "      <td>1.47</td>\n",
       "    </tr>\n",
       "    <tr>\n",
       "      <td>5</td>\n",
       "      <td>1971</td>\n",
       "      <td>1.32</td>\n",
       "    </tr>\n",
       "    <tr>\n",
       "      <td>6</td>\n",
       "      <td>1972</td>\n",
       "      <td>1.69</td>\n",
       "    </tr>\n",
       "    <tr>\n",
       "      <td>7</td>\n",
       "      <td>1973</td>\n",
       "      <td>1.30</td>\n",
       "    </tr>\n",
       "    <tr>\n",
       "      <td>8</td>\n",
       "      <td>1974</td>\n",
       "      <td>1.48</td>\n",
       "    </tr>\n",
       "    <tr>\n",
       "      <td>9</td>\n",
       "      <td>1975</td>\n",
       "      <td>1.34</td>\n",
       "    </tr>\n",
       "    <tr>\n",
       "      <td>10</td>\n",
       "      <td>1976</td>\n",
       "      <td>1.49</td>\n",
       "    </tr>\n",
       "    <tr>\n",
       "      <td>11</td>\n",
       "      <td>1977</td>\n",
       "      <td>1.28</td>\n",
       "    </tr>\n",
       "  </tbody>\n",
       "</table>\n",
       "</div>"
      ],
      "text/plain": [
       "    Year sea ice area\n",
       "2   1968         1.26\n",
       "3   1969         1.53\n",
       "4   1970         1.47\n",
       "5   1971         1.32\n",
       "6   1972         1.69\n",
       "7   1973         1.30\n",
       "8   1974         1.48\n",
       "9   1975         1.34\n",
       "10  1976         1.49\n",
       "11  1977         1.28"
      ]
     },
     "execution_count": 25,
     "metadata": {},
     "output_type": "execute_result"
    }
   ],
   "source": [
    "sea_ice_can.head(10)"
   ]
  },
  {
   "cell_type": "code",
   "execution_count": null,
   "metadata": {},
   "outputs": [],
   "source": []
  },
  {
   "cell_type": "code",
   "execution_count": 26,
   "metadata": {},
   "outputs": [],
   "source": [
    "sea_ice_can['Year'] = sea_ice_can['Year'].astype('int')"
   ]
  },
  {
   "cell_type": "code",
   "execution_count": 27,
   "metadata": {},
   "outputs": [],
   "source": [
    "sea_ice_can['sea ice area'] = sea_ice_can['sea ice area'].astype('float')"
   ]
  },
  {
   "cell_type": "code",
   "execution_count": null,
   "metadata": {},
   "outputs": [],
   "source": []
  },
  {
   "cell_type": "code",
   "execution_count": 28,
   "metadata": {},
   "outputs": [],
   "source": [
    "sea_ice_can.set_index('Year', inplace=True)"
   ]
  },
  {
   "cell_type": "code",
   "execution_count": 29,
   "metadata": {},
   "outputs": [
    {
     "data": {
      "text/plain": [
       "<matplotlib.axes._subplots.AxesSubplot at 0x1efa28f7588>"
      ]
     },
     "execution_count": 29,
     "metadata": {},
     "output_type": "execute_result"
    },
    {
     "data": {
      "image/png": "[encoded data removed]",
      "text/plain": [
       "<Figure size 432x288 with 1 Axes>"
      ]
     },
     "metadata": {
      "needs_background": "light"
     },
     "output_type": "display_data"
    }
   ],
   "source": [
    "sea_ice_can['sea ice area'].plot(kind='line', title=\"avarge sea ice northen canadian waters\")"
   ]
  },
  {
   "cell_type": "code",
   "execution_count": 30,
   "metadata": {},
   "outputs": [
    {
     "data": {
      "text/html": [
       "<div>\n",
       "<style scoped>\n",
       "    .dataframe tbody tr th:only-of-type {\n",
       "        vertical-align: middle;\n",
       "    }\n",
       "\n",
       "    .dataframe tbody tr th {\n",
       "        vertical-align: top;\n",
       "    }\n",
       "\n",
       "    .dataframe thead th {\n",
       "        text-align: right;\n",
       "    }\n",
       "</style>\n",
       "<table border=\"1\" class=\"dataframe\">\n",
       "  <thead>\n",
       "    <tr style=\"text-align: right;\">\n",
       "      <th></th>\n",
       "      <th>Average multi-year sea ice area, Canadian Arctic domain, 1968 to 2018</th>\n",
       "      <th>Unnamed: 1</th>\n",
       "    </tr>\n",
       "  </thead>\n",
       "  <tbody>\n",
       "    <tr>\n",
       "      <td>0</td>\n",
       "      <td>NaN</td>\n",
       "      <td>NaN</td>\n",
       "    </tr>\n",
       "    <tr>\n",
       "      <td>1</td>\n",
       "      <td>Year</td>\n",
       "      <td>Canadian Arctic domain multi-year sea ice area...</td>\n",
       "    </tr>\n",
       "    <tr>\n",
       "      <td>2</td>\n",
       "      <td>1968</td>\n",
       "      <td>516</td>\n",
       "    </tr>\n",
       "    <tr>\n",
       "      <td>3</td>\n",
       "      <td>1969</td>\n",
       "      <td>661</td>\n",
       "    </tr>\n",
       "    <tr>\n",
       "      <td>4</td>\n",
       "      <td>1970</td>\n",
       "      <td>543</td>\n",
       "    </tr>\n",
       "    <tr>\n",
       "      <td>5</td>\n",
       "      <td>1971</td>\n",
       "      <td>530</td>\n",
       "    </tr>\n",
       "    <tr>\n",
       "      <td>6</td>\n",
       "      <td>1972</td>\n",
       "      <td>472</td>\n",
       "    </tr>\n",
       "    <tr>\n",
       "      <td>7</td>\n",
       "      <td>1973</td>\n",
       "      <td>566</td>\n",
       "    </tr>\n",
       "    <tr>\n",
       "      <td>8</td>\n",
       "      <td>1974</td>\n",
       "      <td>498</td>\n",
       "    </tr>\n",
       "    <tr>\n",
       "      <td>9</td>\n",
       "      <td>1975</td>\n",
       "      <td>648</td>\n",
       "    </tr>\n",
       "  </tbody>\n",
       "</table>\n",
       "</div>"
      ],
      "text/plain": [
       "  Average multi-year sea ice area, Canadian Arctic domain, 1968 to 2018  \\\n",
       "0                                                NaN                      \n",
       "1                                               Year                      \n",
       "2                                               1968                      \n",
       "3                                               1969                      \n",
       "4                                               1970                      \n",
       "5                                               1971                      \n",
       "6                                               1972                      \n",
       "7                                               1973                      \n",
       "8                                               1974                      \n",
       "9                                               1975                      \n",
       "\n",
       "                                          Unnamed: 1  \n",
       "0                                                NaN  \n",
       "1  Canadian Arctic domain multi-year sea ice area...  \n",
       "2                                                516  \n",
       "3                                                661  \n",
       "4                                                543  \n",
       "5                                                530  \n",
       "6                                                472  \n",
       "7                                                566  \n",
       "8                                                498  \n",
       "9                                                648  "
      ]
     },
     "execution_count": 30,
     "metadata": {},
     "output_type": "execute_result"
    }
   ],
   "source": [
    "sea_ice_multi_year.head(10)"
   ]
  },
  {
   "cell_type": "code",
   "execution_count": 31,
   "metadata": {},
   "outputs": [],
   "source": [
    "sea_ice_multi_year.drop([0, 1, 53, 54, 55, 56], inplace=True)"
   ]
  },
  {
   "cell_type": "code",
   "execution_count": 32,
   "metadata": {},
   "outputs": [
    {
     "data": {
      "text/plain": [
       "Index(['Average multi-year sea ice area, Canadian Arctic domain, 1968 to 2018', 'Unnamed: 1'], dtype='object')"
      ]
     },
     "execution_count": 32,
     "metadata": {},
     "output_type": "execute_result"
    }
   ],
   "source": [
    "sea_ice_multi_year.columns"
   ]
  },
  {
   "cell_type": "code",
   "execution_count": 33,
   "metadata": {},
   "outputs": [],
   "source": [
    "sea_ice_multi_year.rename(columns={'Average multi-year sea ice area, Canadian Arctic domain, 1968 to 2018':'Year', 'Unnamed: 1':'Canadian Arctic domain multi-year sea ice area (thousands of square kilometres)'}, inplace=True)"
   ]
  },
  {
   "cell_type": "code",
   "execution_count": 34,
   "metadata": {},
   "outputs": [],
   "source": [
    "sea_ice_multi_year.set_index('Year', inplace=True)"
   ]
  },
  {
   "cell_type": "code",
   "execution_count": 35,
   "metadata": {},
   "outputs": [],
   "source": [
    "sea_ice_multi_year['Canadian Arctic domain multi-year sea ice area (thousands of square kilometres)'] = sea_ice_multi_year['Canadian Arctic domain multi-year sea ice area (thousands of square kilometres)'].astype('int')"
   ]
  },
  {
   "cell_type": "code",
   "execution_count": 36,
   "metadata": {},
   "outputs": [
    {
     "data": {
      "text/plain": [
       "<matplotlib.axes._subplots.AxesSubplot at 0x1efa297a438>"
      ]
     },
     "execution_count": 36,
     "metadata": {},
     "output_type": "execute_result"
    },
    {
     "data": {
      "image/png": "[encoded data removed]",
      "text/plain": [
       "<Figure size 432x288 with 1 Axes>"
      ]
     },
     "metadata": {
      "needs_background": "light"
     },
     "output_type": "display_data"
    }
   ],
   "source": [
    "sea_ice_multi_year.plot(kind='line' ,title=\"multi year sea ice\")"
   ]
  },
  {
   "cell_type": "code",
   "execution_count": null,
   "metadata": {},
   "outputs": [],
   "source": []
  },
  {
   "cell_type": "code",
   "execution_count": 37,
   "metadata": {},
   "outputs": [
    {
     "data": {
      "text/plain": [
       "<matplotlib.axes._subplots.AxesSubplot at 0x1efa29cbe10>"
      ]
     },
     "execution_count": 37,
     "metadata": {},
     "output_type": "execute_result"
    },
    {
     "data": {
      "image/png": "[encoded data removed]",
      "text/plain": [
       "<Figure size 432x288 with 1 Axes>"
      ]
     },
     "metadata": {
      "needs_background": "light"
     },
     "output_type": "display_data"
    }
   ],
   "source": [
    "sea_ice_can.plot(kind='line')"
   ]
  },
  {
   "cell_type": "code",
   "execution_count": null,
   "metadata": {},
   "outputs": [],
   "source": []
  },
  {
   "cell_type": "code",
   "execution_count": null,
   "metadata": {},
   "outputs": [],
   "source": []
  },
  {
   "cell_type": "code",
   "execution_count": 38,
   "metadata": {},
   "outputs": [],
   "source": [
    "sea_ice_artic_sub_region.drop([0, 1, 54, 55, 56, 57], inplace=True)  # drop rows that aren't part of data set"
   ]
  },
  {
   "cell_type": "code",
   "execution_count": 39,
   "metadata": {},
   "outputs": [
    {
     "data": {
      "text/plain": [
       "Index(['Sub-region sea ice area trends, Northern Canadian Waters, 1968 to 2018',\n",
       "       'Unnamed: 1', 'Unnamed: 2', 'Unnamed: 3', 'Unnamed: 4', 'Unnamed: 5',\n",
       "       'Unnamed: 6', 'Unnamed: 7', 'Unnamed: 8', 'Unnamed: 9'],\n",
       "      dtype='object')"
      ]
     },
     "execution_count": 39,
     "metadata": {},
     "output_type": "execute_result"
    }
   ],
   "source": [
    "sea_ice_artic_sub_region.columns"
   ]
  },
  {
   "cell_type": "code",
   "execution_count": 40,
   "metadata": {},
   "outputs": [],
   "source": [
    "sea_ice_artic_sub_region.rename(columns={'Sub-region sea ice area trends, Northern Canadian Waters, 1968 to 2018':'Year', 'Unnamed: 1':'Foxe Basin sea ice area (thousands of square kilometres)', 'Unnamed: 2':'Kane Basin sea ice area (thousands of square kilometres)', 'Unnamed: 3':'Baffin Bay sea ice area (thousands of square kilometres)', 'Unnamed: 4':'Beaufort Sea sea ice area (thousands of square kilometres)', 'Unnamed: 5':'Canadian Arctic Archipelago sea ice area (thousands of square kilometres)', 'Unnamed: 6':'Hudson Bay sea ice area (thousands of square kilometres)', 'Unnamed: 7':'Hudson Strait sea ice area (thousands of square kilometres)', 'Unnamed: 8':'Davis Strait sea ice area (thousands of square kilometres)', 'Unnamed: 9':'North Labrador Sea sea ice area (thousands of square kilometres)'}, inplace=True)"
   ]
  },
  {
   "cell_type": "code",
   "execution_count": 41,
   "metadata": {},
   "outputs": [
    {
     "data": {
      "text/html": [
       "<div>\n",
       "<style scoped>\n",
       "    .dataframe tbody tr th:only-of-type {\n",
       "        vertical-align: middle;\n",
       "    }\n",
       "\n",
       "    .dataframe tbody tr th {\n",
       "        vertical-align: top;\n",
       "    }\n",
       "\n",
       "    .dataframe thead th {\n",
       "        text-align: right;\n",
       "    }\n",
       "</style>\n",
       "<table border=\"1\" class=\"dataframe\">\n",
       "  <thead>\n",
       "    <tr style=\"text-align: right;\">\n",
       "      <th></th>\n",
       "      <th>Year</th>\n",
       "      <th>Foxe Basin sea ice area (thousands of square kilometres)</th>\n",
       "      <th>Kane Basin sea ice area (thousands of square kilometres)</th>\n",
       "      <th>Baffin Bay sea ice area (thousands of square kilometres)</th>\n",
       "      <th>Beaufort Sea sea ice area (thousands of square kilometres)</th>\n",
       "      <th>Canadian Arctic Archipelago sea ice area (thousands of square kilometres)</th>\n",
       "      <th>Hudson Bay sea ice area (thousands of square kilometres)</th>\n",
       "      <th>Hudson Strait sea ice area (thousands of square kilometres)</th>\n",
       "      <th>Davis Strait sea ice area (thousands of square kilometres)</th>\n",
       "      <th>North Labrador Sea sea ice area (thousands of square kilometres)</th>\n",
       "    </tr>\n",
       "  </thead>\n",
       "  <tbody>\n",
       "    <tr>\n",
       "      <td>2</td>\n",
       "      <td>1968</td>\n",
       "      <td>83</td>\n",
       "      <td>31</td>\n",
       "      <td>143</td>\n",
       "      <td>311</td>\n",
       "      <td>542</td>\n",
       "      <td>94</td>\n",
       "      <td>21</td>\n",
       "      <td>25</td>\n",
       "      <td>5</td>\n",
       "    </tr>\n",
       "    <tr>\n",
       "      <td>3</td>\n",
       "      <td>1969</td>\n",
       "      <td>59</td>\n",
       "      <td>32</td>\n",
       "      <td>172</td>\n",
       "      <td>431</td>\n",
       "      <td>544</td>\n",
       "      <td>191</td>\n",
       "      <td>25</td>\n",
       "      <td>34</td>\n",
       "      <td>5</td>\n",
       "    </tr>\n",
       "    <tr>\n",
       "      <td>4</td>\n",
       "      <td>1970</td>\n",
       "      <td>74</td>\n",
       "      <td>34</td>\n",
       "      <td>216</td>\n",
       "      <td>390</td>\n",
       "      <td>556</td>\n",
       "      <td>130</td>\n",
       "      <td>19</td>\n",
       "      <td>38</td>\n",
       "      <td>12</td>\n",
       "    </tr>\n",
       "    <tr>\n",
       "      <td>5</td>\n",
       "      <td>1971</td>\n",
       "      <td>66</td>\n",
       "      <td>33</td>\n",
       "      <td>177</td>\n",
       "      <td>354</td>\n",
       "      <td>482</td>\n",
       "      <td>109</td>\n",
       "      <td>30</td>\n",
       "      <td>31</td>\n",
       "      <td>9</td>\n",
       "    </tr>\n",
       "    <tr>\n",
       "      <td>6</td>\n",
       "      <td>1972</td>\n",
       "      <td>117</td>\n",
       "      <td>33</td>\n",
       "      <td>171</td>\n",
       "      <td>335</td>\n",
       "      <td>659</td>\n",
       "      <td>223</td>\n",
       "      <td>50</td>\n",
       "      <td>77</td>\n",
       "      <td>15</td>\n",
       "    </tr>\n",
       "    <tr>\n",
       "      <td>7</td>\n",
       "      <td>1973</td>\n",
       "      <td>64</td>\n",
       "      <td>34</td>\n",
       "      <td>157</td>\n",
       "      <td>375</td>\n",
       "      <td>476</td>\n",
       "      <td>125</td>\n",
       "      <td>30</td>\n",
       "      <td>49</td>\n",
       "      <td>3</td>\n",
       "    </tr>\n",
       "    <tr>\n",
       "      <td>8</td>\n",
       "      <td>1974</td>\n",
       "      <td>68</td>\n",
       "      <td>34</td>\n",
       "      <td>85</td>\n",
       "      <td>478</td>\n",
       "      <td>587</td>\n",
       "      <td>154</td>\n",
       "      <td>27</td>\n",
       "      <td>23</td>\n",
       "      <td>7</td>\n",
       "    </tr>\n",
       "    <tr>\n",
       "      <td>9</td>\n",
       "      <td>1975</td>\n",
       "      <td>53</td>\n",
       "      <td>34</td>\n",
       "      <td>87</td>\n",
       "      <td>457</td>\n",
       "      <td>520</td>\n",
       "      <td>109</td>\n",
       "      <td>17</td>\n",
       "      <td>27</td>\n",
       "      <td>8</td>\n",
       "    </tr>\n",
       "  </tbody>\n",
       "</table>\n",
       "</div>"
      ],
      "text/plain": [
       "   Year Foxe Basin sea ice area (thousands of square kilometres)  \\\n",
       "2  1968                                                 83         \n",
       "3  1969                                                 59         \n",
       "4  1970                                                 74         \n",
       "5  1971                                                 66         \n",
       "6  1972                                                117         \n",
       "7  1973                                                 64         \n",
       "8  1974                                                 68         \n",
       "9  1975                                                 53         \n",
       "\n",
       "  Kane Basin sea ice area (thousands of square kilometres)  \\\n",
       "2                                                 31         \n",
       "3                                                 32         \n",
       "4                                                 34         \n",
       "5                                                 33         \n",
       "6                                                 33         \n",
       "7                                                 34         \n",
       "8                                                 34         \n",
       "9                                                 34         \n",
       "\n",
       "  Baffin Bay sea ice area (thousands of square kilometres)  \\\n",
       "2                                                143         \n",
       "3                                                172         \n",
       "4                                                216         \n",
       "5                                                177         \n",
       "6                                                171         \n",
       "7                                                157         \n",
       "8                                                 85         \n",
       "9                                                 87         \n",
       "\n",
       "  Beaufort Sea sea ice area (thousands of square kilometres)  \\\n",
       "2                                                311           \n",
       "3                                                431           \n",
       "4                                                390           \n",
       "5                                                354           \n",
       "6                                                335           \n",
       "7                                                375           \n",
       "8                                                478           \n",
       "9                                                457           \n",
       "\n",
       "  Canadian Arctic Archipelago sea ice area (thousands of square kilometres)  \\\n",
       "2                                                542                          \n",
       "3                                                544                          \n",
       "4                                                556                          \n",
       "5                                                482                          \n",
       "6                                                659                          \n",
       "7                                                476                          \n",
       "8                                                587                          \n",
       "9                                                520                          \n",
       "\n",
       "  Hudson Bay sea ice area (thousands of square kilometres)  \\\n",
       "2                                                 94         \n",
       "3                                                191         \n",
       "4                                                130         \n",
       "5                                                109         \n",
       "6                                                223         \n",
       "7                                                125         \n",
       "8                                                154         \n",
       "9                                                109         \n",
       "\n",
       "  Hudson Strait sea ice area (thousands of square kilometres)  \\\n",
       "2                                                 21            \n",
       "3                                                 25            \n",
       "4                                                 19            \n",
       "5                                                 30            \n",
       "6                                                 50            \n",
       "7                                                 30            \n",
       "8                                                 27            \n",
       "9                                                 17            \n",
       "\n",
       "  Davis Strait sea ice area (thousands of square kilometres)  \\\n",
       "2                                                 25           \n",
       "3                                                 34           \n",
       "4                                                 38           \n",
       "5                                                 31           \n",
       "6                                                 77           \n",
       "7                                                 49           \n",
       "8                                                 23           \n",
       "9                                                 27           \n",
       "\n",
       "  North Labrador Sea sea ice area (thousands of square kilometres)  \n",
       "2                                                  5                \n",
       "3                                                  5                \n",
       "4                                                 12                \n",
       "5                                                  9                \n",
       "6                                                 15                \n",
       "7                                                  3                \n",
       "8                                                  7                \n",
       "9                                                  8                "
      ]
     },
     "execution_count": 41,
     "metadata": {},
     "output_type": "execute_result"
    }
   ],
   "source": [
    "sea_ice_artic_sub_region.head(8)"
   ]
  },
  {
   "cell_type": "code",
   "execution_count": null,
   "metadata": {},
   "outputs": [],
   "source": []
  },
  {
   "cell_type": "code",
   "execution_count": 42,
   "metadata": {},
   "outputs": [],
   "source": [
    "sea_ice_artic_sub_region.set_index('Year', inplace=True)"
   ]
  },
  {
   "cell_type": "code",
   "execution_count": 43,
   "metadata": {},
   "outputs": [
    {
     "data": {
      "text/plain": [
       "Foxe Basin sea ice area (thousands of square kilometres)                     object\n",
       "Kane Basin sea ice area (thousands of square kilometres)                     object\n",
       "Baffin Bay sea ice area (thousands of square kilometres)                     object\n",
       "Beaufort Sea sea ice area (thousands of square kilometres)                   object\n",
       "Canadian Arctic Archipelago sea ice area (thousands of square kilometres)    object\n",
       "Hudson Bay sea ice area (thousands of square kilometres)                     object\n",
       "Hudson Strait sea ice area (thousands of square kilometres)                  object\n",
       "Davis Strait sea ice area (thousands of square kilometres)                   object\n",
       "North Labrador Sea sea ice area (thousands of square kilometres)             object\n",
       "dtype: object"
      ]
     },
     "execution_count": 43,
     "metadata": {},
     "output_type": "execute_result"
    }
   ],
   "source": [
    "sea_ice_artic_sub_region.dtypes"
   ]
  },
  {
   "cell_type": "code",
   "execution_count": 44,
   "metadata": {},
   "outputs": [],
   "source": [
    "sea_ice_artic_sub_region_with_trend = sea_ice_artic_sub_region.copy()"
   ]
  },
  {
   "cell_type": "code",
   "execution_count": 45,
   "metadata": {},
   "outputs": [],
   "source": [
    "sea_ice_artic_sub_region.drop(['1968 to 2018 decadal trend'], inplace=True)"
   ]
  },
  {
   "cell_type": "code",
   "execution_count": 46,
   "metadata": {},
   "outputs": [],
   "source": [
    "sea_ice_artic_sub_region['Foxe Basin sea ice area (thousands of square kilometres)'] = sea_ice_artic_sub_region['Foxe Basin sea ice area (thousands of square kilometres)'].astype('int')"
   ]
  },
  {
   "cell_type": "code",
   "execution_count": 47,
   "metadata": {},
   "outputs": [],
   "source": [
    "sea_ice_artic_sub_region['Kane Basin sea ice area (thousands of square kilometres)'] = sea_ice_artic_sub_region['Kane Basin sea ice area (thousands of square kilometres)'].astype('int')"
   ]
  },
  {
   "cell_type": "code",
   "execution_count": 48,
   "metadata": {},
   "outputs": [],
   "source": [
    "sea_ice_artic_sub_region['Baffin Bay sea ice area (thousands of square kilometres)'] = sea_ice_artic_sub_region['Baffin Bay sea ice area (thousands of square kilometres)'].astype('int')"
   ]
  },
  {
   "cell_type": "code",
   "execution_count": 49,
   "metadata": {},
   "outputs": [],
   "source": [
    "sea_ice_artic_sub_region['Beaufort Sea sea ice area (thousands of square kilometres)'] = sea_ice_artic_sub_region['Beaufort Sea sea ice area (thousands of square kilometres)'].astype('int')"
   ]
  },
  {
   "cell_type": "code",
   "execution_count": 50,
   "metadata": {},
   "outputs": [],
   "source": [
    "sea_ice_artic_sub_region['Canadian Arctic Archipelago sea ice area (thousands of square kilometres)'] = sea_ice_artic_sub_region['Canadian Arctic Archipelago sea ice area (thousands of square kilometres)'].astype('int')"
   ]
  },
  {
   "cell_type": "code",
   "execution_count": 51,
   "metadata": {},
   "outputs": [],
   "source": [
    "sea_ice_artic_sub_region['Hudson Bay sea ice area (thousands of square kilometres)'] = sea_ice_artic_sub_region['Hudson Bay sea ice area (thousands of square kilometres)'].astype('int')"
   ]
  },
  {
   "cell_type": "code",
   "execution_count": 52,
   "metadata": {},
   "outputs": [],
   "source": [
    "sea_ice_artic_sub_region['Hudson Strait sea ice area (thousands of square kilometres)'] = sea_ice_artic_sub_region['Hudson Strait sea ice area (thousands of square kilometres)'].astype('int')"
   ]
  },
  {
   "cell_type": "code",
   "execution_count": 53,
   "metadata": {},
   "outputs": [],
   "source": [
    "sea_ice_artic_sub_region['Davis Strait sea ice area (thousands of square kilometres)'] = sea_ice_artic_sub_region['Davis Strait sea ice area (thousands of square kilometres)'].astype('int')"
   ]
  },
  {
   "cell_type": "code",
   "execution_count": 54,
   "metadata": {},
   "outputs": [],
   "source": [
    "sea_ice_artic_sub_region['North Labrador Sea sea ice area (thousands of square kilometres)'] = sea_ice_artic_sub_region['North Labrador Sea sea ice area (thousands of square kilometres)'].astype('int')"
   ]
  },
  {
   "cell_type": "code",
   "execution_count": 55,
   "metadata": {},
   "outputs": [
    {
     "data": {
      "text/plain": [
       "<matplotlib.legend.Legend at 0x1efa2a29a58>"
      ]
     },
     "execution_count": 55,
     "metadata": {},
     "output_type": "execute_result"
    },
    {
     "data": {
      "image/png": "[encoded data removed]",
      "text/plain": [
       "<Figure size 432x288 with 1 Axes>"
      ]
     },
     "metadata": {
      "needs_background": "light"
     },
     "output_type": "display_data"
    }
   ],
   "source": [
    "sea_ice_artic_sub_region.plot(kind='line').legend(loc='upper center', bbox_to_anchor=(0.5, -0.05), title=\"sea ice by region\")"
   ]
  },
  {
   "cell_type": "code",
   "execution_count": null,
   "metadata": {},
   "outputs": [],
   "source": []
  },
  {
   "cell_type": "code",
   "execution_count": 56,
   "metadata": {},
   "outputs": [
    {
     "data": {
      "text/html": [
       "<div>\n",
       "<style scoped>\n",
       "    .dataframe tbody tr th:only-of-type {\n",
       "        vertical-align: middle;\n",
       "    }\n",
       "\n",
       "    .dataframe tbody tr th {\n",
       "        vertical-align: top;\n",
       "    }\n",
       "\n",
       "    .dataframe thead th {\n",
       "        text-align: right;\n",
       "    }\n",
       "</style>\n",
       "<table border=\"1\" class=\"dataframe\">\n",
       "  <thead>\n",
       "    <tr style=\"text-align: right;\">\n",
       "      <th></th>\n",
       "      <th>Multi-year sea ice area in Canadian Arctic sub-regions, 1968 to 2018</th>\n",
       "      <th>Unnamed: 1</th>\n",
       "      <th>Unnamed: 2</th>\n",
       "      <th>Unnamed: 3</th>\n",
       "      <th>Unnamed: 4</th>\n",
       "      <th>Unnamed: 5</th>\n",
       "    </tr>\n",
       "  </thead>\n",
       "  <tbody>\n",
       "    <tr>\n",
       "      <td>0</td>\n",
       "      <td>NaN</td>\n",
       "      <td>NaN</td>\n",
       "      <td>NaN</td>\n",
       "      <td>NaN</td>\n",
       "      <td>NaN</td>\n",
       "      <td>NaN</td>\n",
       "    </tr>\n",
       "    <tr>\n",
       "      <td>1</td>\n",
       "      <td>Year</td>\n",
       "      <td>Foxe Basin multi-year sea ice area (thousands ...</td>\n",
       "      <td>Kane Basin multi-year sea ice area (thousands ...</td>\n",
       "      <td>Baffin Bay multi-year sea ice area (thousands ...</td>\n",
       "      <td>Beaufort Sea multi-year sea ice area (thousand...</td>\n",
       "      <td>Canadian Arctic Archipelago multi-year sea ice...</td>\n",
       "    </tr>\n",
       "    <tr>\n",
       "      <td>2</td>\n",
       "      <td>1968</td>\n",
       "      <td>1.58</td>\n",
       "      <td>17</td>\n",
       "      <td>8</td>\n",
       "      <td>216</td>\n",
       "      <td>244</td>\n",
       "    </tr>\n",
       "    <tr>\n",
       "      <td>3</td>\n",
       "      <td>1969</td>\n",
       "      <td>0.14</td>\n",
       "      <td>23</td>\n",
       "      <td>28</td>\n",
       "      <td>319</td>\n",
       "      <td>289</td>\n",
       "    </tr>\n",
       "    <tr>\n",
       "      <td>4</td>\n",
       "      <td>1970</td>\n",
       "      <td>0.32</td>\n",
       "      <td>14</td>\n",
       "      <td>23</td>\n",
       "      <td>234</td>\n",
       "      <td>243</td>\n",
       "    </tr>\n",
       "    <tr>\n",
       "      <td>5</td>\n",
       "      <td>1971</td>\n",
       "      <td>0.83</td>\n",
       "      <td>16</td>\n",
       "      <td>16</td>\n",
       "      <td>256</td>\n",
       "      <td>201</td>\n",
       "    </tr>\n",
       "    <tr>\n",
       "      <td>6</td>\n",
       "      <td>1972</td>\n",
       "      <td>3.77</td>\n",
       "      <td>14</td>\n",
       "      <td>11</td>\n",
       "      <td>181</td>\n",
       "      <td>243</td>\n",
       "    </tr>\n",
       "    <tr>\n",
       "      <td>7</td>\n",
       "      <td>1973</td>\n",
       "      <td>0.88</td>\n",
       "      <td>19</td>\n",
       "      <td>15</td>\n",
       "      <td>202</td>\n",
       "      <td>301</td>\n",
       "    </tr>\n",
       "    <tr>\n",
       "      <td>8</td>\n",
       "      <td>1974</td>\n",
       "      <td>0.18</td>\n",
       "      <td>16</td>\n",
       "      <td>6</td>\n",
       "      <td>285</td>\n",
       "      <td>190</td>\n",
       "    </tr>\n",
       "    <tr>\n",
       "      <td>9</td>\n",
       "      <td>1975</td>\n",
       "      <td>0.45</td>\n",
       "      <td>16</td>\n",
       "      <td>5</td>\n",
       "      <td>374</td>\n",
       "      <td>235</td>\n",
       "    </tr>\n",
       "  </tbody>\n",
       "</table>\n",
       "</div>"
      ],
      "text/plain": [
       "  Multi-year sea ice area in Canadian Arctic sub-regions, 1968 to 2018  \\\n",
       "0                                                NaN                     \n",
       "1                                               Year                     \n",
       "2                                               1968                     \n",
       "3                                               1969                     \n",
       "4                                               1970                     \n",
       "5                                               1971                     \n",
       "6                                               1972                     \n",
       "7                                               1973                     \n",
       "8                                               1974                     \n",
       "9                                               1975                     \n",
       "\n",
       "                                          Unnamed: 1  \\\n",
       "0                                                NaN   \n",
       "1  Foxe Basin multi-year sea ice area (thousands ...   \n",
       "2                                               1.58   \n",
       "3                                               0.14   \n",
       "4                                               0.32   \n",
       "5                                               0.83   \n",
       "6                                               3.77   \n",
       "7                                               0.88   \n",
       "8                                               0.18   \n",
       "9                                               0.45   \n",
       "\n",
       "                                          Unnamed: 2  \\\n",
       "0                                                NaN   \n",
       "1  Kane Basin multi-year sea ice area (thousands ...   \n",
       "2                                                 17   \n",
       "3                                                 23   \n",
       "4                                                 14   \n",
       "5                                                 16   \n",
       "6                                                 14   \n",
       "7                                                 19   \n",
       "8                                                 16   \n",
       "9                                                 16   \n",
       "\n",
       "                                          Unnamed: 3  \\\n",
       "0                                                NaN   \n",
       "1  Baffin Bay multi-year sea ice area (thousands ...   \n",
       "2                                                  8   \n",
       "3                                                 28   \n",
       "4                                                 23   \n",
       "5                                                 16   \n",
       "6                                                 11   \n",
       "7                                                 15   \n",
       "8                                                  6   \n",
       "9                                                  5   \n",
       "\n",
       "                                          Unnamed: 4  \\\n",
       "0                                                NaN   \n",
       "1  Beaufort Sea multi-year sea ice area (thousand...   \n",
       "2                                                216   \n",
       "3                                                319   \n",
       "4                                                234   \n",
       "5                                                256   \n",
       "6                                                181   \n",
       "7                                                202   \n",
       "8                                                285   \n",
       "9                                                374   \n",
       "\n",
       "                                          Unnamed: 5  \n",
       "0                                                NaN  \n",
       "1  Canadian Arctic Archipelago multi-year sea ice...  \n",
       "2                                                244  \n",
       "3                                                289  \n",
       "4                                                243  \n",
       "5                                                201  \n",
       "6                                                243  \n",
       "7                                                301  \n",
       "8                                                190  \n",
       "9                                                235  "
      ]
     },
     "execution_count": 56,
     "metadata": {},
     "output_type": "execute_result"
    }
   ],
   "source": [
    "sea_ice_multi_year_regional.head(10)"
   ]
  },
  {
   "cell_type": "code",
   "execution_count": 57,
   "metadata": {},
   "outputs": [
    {
     "data": {
      "text/plain": [
       "array([1992, 1979, 1996, 2014, 2011, 1981, 1968, 1980, 1988, 1978, 1971,\n",
       "       1985, 2005, 1982, 1974, 1976, 2000, 1986, 1972, 1975, 1991, 2012,\n",
       "       1997, 1970, 2003, 1973, 1990, 2001, 2010, 1989, 1994, 1969, 2006,\n",
       "       2009, 2004, 1983, 1995, 2007, 1984, 1987, 2002, 1999, 1998, 1977,\n",
       "       2008, 2013, 1993])"
      ]
     },
     "execution_count": 57,
     "metadata": {},
     "output_type": "execute_result"
    }
   ],
   "source": [
    "i = np.arange(1968,2015)\n",
    "np.random.shuffle(i)\n",
    "i"
   ]
  },
  {
   "cell_type": "code",
   "execution_count": 58,
   "metadata": {},
   "outputs": [
    {
     "data": {
      "text/html": [
       "<div>\n",
       "<style scoped>\n",
       "    .dataframe tbody tr th:only-of-type {\n",
       "        vertical-align: middle;\n",
       "    }\n",
       "\n",
       "    .dataframe tbody tr th {\n",
       "        vertical-align: top;\n",
       "    }\n",
       "\n",
       "    .dataframe thead th {\n",
       "        text-align: right;\n",
       "    }\n",
       "</style>\n",
       "<table border=\"1\" class=\"dataframe\">\n",
       "  <thead>\n",
       "    <tr style=\"text-align: right;\">\n",
       "      <th></th>\n",
       "      <th>alert</th>\n",
       "      <th>cape_dorset</th>\n",
       "      <th>eureka</th>\n",
       "      <th>hall_beach</th>\n",
       "      <th>iqaluit</th>\n",
       "      <th>resolute</th>\n",
       "      <th>artic_mean</th>\n",
       "      <th>sub_artic_mean</th>\n",
       "    </tr>\n",
       "  </thead>\n",
       "  <tbody>\n",
       "    <tr>\n",
       "      <td>1992</td>\n",
       "      <td>-18.708333</td>\n",
       "      <td>-10.866667</td>\n",
       "      <td>-20.541667</td>\n",
       "      <td>-20.541667</td>\n",
       "      <td>-12.00</td>\n",
       "      <td>-16.725000</td>\n",
       "      <td>-18.658333</td>\n",
       "      <td>-14.469444</td>\n",
       "    </tr>\n",
       "    <tr>\n",
       "      <td>1979</td>\n",
       "      <td>-19.675000</td>\n",
       "      <td>NaN</td>\n",
       "      <td>-21.491667</td>\n",
       "      <td>-21.491667</td>\n",
       "      <td>-9.25</td>\n",
       "      <td>-17.441667</td>\n",
       "      <td>-19.536111</td>\n",
       "      <td>-15.370833</td>\n",
       "    </tr>\n",
       "    <tr>\n",
       "      <td>1996</td>\n",
       "      <td>-16.550000</td>\n",
       "      <td>-7.716667</td>\n",
       "      <td>-18.733333</td>\n",
       "      <td>-18.733333</td>\n",
       "      <td>NaN</td>\n",
       "      <td>-15.325000</td>\n",
       "      <td>-16.869444</td>\n",
       "      <td>-13.225000</td>\n",
       "    </tr>\n",
       "    <tr>\n",
       "      <td>2014</td>\n",
       "      <td>NaN</td>\n",
       "      <td>NaN</td>\n",
       "      <td>-18.483333</td>\n",
       "      <td>-18.483333</td>\n",
       "      <td>NaN</td>\n",
       "      <td>NaN</td>\n",
       "      <td>-18.483333</td>\n",
       "      <td>-18.483333</td>\n",
       "    </tr>\n",
       "    <tr>\n",
       "      <td>2011</td>\n",
       "      <td>NaN</td>\n",
       "      <td>NaN</td>\n",
       "      <td>-17.291667</td>\n",
       "      <td>-17.291667</td>\n",
       "      <td>NaN</td>\n",
       "      <td>-13.891667</td>\n",
       "      <td>-15.591667</td>\n",
       "      <td>-17.291667</td>\n",
       "    </tr>\n",
       "  </tbody>\n",
       "</table>\n",
       "</div>"
      ],
      "text/plain": [
       "          alert  cape_dorset     eureka  hall_beach  iqaluit   resolute  \\\n",
       "1992 -18.708333   -10.866667 -20.541667  -20.541667   -12.00 -16.725000   \n",
       "1979 -19.675000          NaN -21.491667  -21.491667    -9.25 -17.441667   \n",
       "1996 -16.550000    -7.716667 -18.733333  -18.733333      NaN -15.325000   \n",
       "2014        NaN          NaN -18.483333  -18.483333      NaN        NaN   \n",
       "2011        NaN          NaN -17.291667  -17.291667      NaN -13.891667   \n",
       "\n",
       "      artic_mean  sub_artic_mean  \n",
       "1992  -18.658333      -14.469444  \n",
       "1979  -19.536111      -15.370833  \n",
       "1996  -16.869444      -13.225000  \n",
       "2014  -18.483333      -18.483333  \n",
       "2011  -15.591667      -17.291667  "
      ]
     },
     "execution_count": 58,
     "metadata": {},
     "output_type": "execute_result"
    }
   ],
   "source": [
    "yearly_mean_temps_train = yearly_mean_temps.loc[i[:(int)(48*7/10)]]\n",
    "yearly_mean_temps_test = yearly_mean_temps.loc[i[(int)(48*7/10):]]\n",
    "yearly_mean_temps_train.head()"
   ]
  },
  {
   "cell_type": "code",
   "execution_count": 59,
   "metadata": {},
   "outputs": [
    {
     "data": {
      "text/html": [
       "<div>\n",
       "<style scoped>\n",
       "    .dataframe tbody tr th:only-of-type {\n",
       "        vertical-align: middle;\n",
       "    }\n",
       "\n",
       "    .dataframe tbody tr th {\n",
       "        vertical-align: top;\n",
       "    }\n",
       "\n",
       "    .dataframe thead th {\n",
       "        text-align: right;\n",
       "    }\n",
       "</style>\n",
       "<table border=\"1\" class=\"dataframe\">\n",
       "  <thead>\n",
       "    <tr style=\"text-align: right;\">\n",
       "      <th></th>\n",
       "      <th>sea ice area</th>\n",
       "    </tr>\n",
       "    <tr>\n",
       "      <th>Year</th>\n",
       "      <th></th>\n",
       "    </tr>\n",
       "  </thead>\n",
       "  <tbody>\n",
       "    <tr>\n",
       "      <td>1992</td>\n",
       "      <td>1.65</td>\n",
       "    </tr>\n",
       "    <tr>\n",
       "      <td>1979</td>\n",
       "      <td>1.44</td>\n",
       "    </tr>\n",
       "    <tr>\n",
       "      <td>1996</td>\n",
       "      <td>1.52</td>\n",
       "    </tr>\n",
       "    <tr>\n",
       "      <td>2014</td>\n",
       "      <td>1.04</td>\n",
       "    </tr>\n",
       "    <tr>\n",
       "      <td>2011</td>\n",
       "      <td>0.74</td>\n",
       "    </tr>\n",
       "  </tbody>\n",
       "</table>\n",
       "</div>"
      ],
      "text/plain": [
       "      sea ice area\n",
       "Year              \n",
       "1992          1.65\n",
       "1979          1.44\n",
       "1996          1.52\n",
       "2014          1.04\n",
       "2011          0.74"
      ]
     },
     "execution_count": 59,
     "metadata": {},
     "output_type": "execute_result"
    }
   ],
   "source": [
    "sea_ice_can_train = sea_ice_can.loc[i[:(int)(48*7/10)]]\n",
    "sea_ice_can_test = sea_ice_can.loc[i[(int)(48*7/10):]]\n",
    "sea_ice_can_train.head()"
   ]
  },
  {
   "cell_type": "code",
   "execution_count": null,
   "metadata": {},
   "outputs": [],
   "source": []
  },
  {
   "cell_type": "code",
   "execution_count": 60,
   "metadata": {},
   "outputs": [
    {
     "data": {
      "text/html": [
       "<div>\n",
       "<style scoped>\n",
       "    .dataframe tbody tr th:only-of-type {\n",
       "        vertical-align: middle;\n",
       "    }\n",
       "\n",
       "    .dataframe tbody tr th {\n",
       "        vertical-align: top;\n",
       "    }\n",
       "\n",
       "    .dataframe thead th {\n",
       "        text-align: right;\n",
       "    }\n",
       "</style>\n",
       "<table border=\"1\" class=\"dataframe\">\n",
       "  <thead>\n",
       "    <tr style=\"text-align: right;\">\n",
       "      <th></th>\n",
       "      <th>sub_artic_mean</th>\n",
       "      <th>artic_mean</th>\n",
       "    </tr>\n",
       "  </thead>\n",
       "  <tbody>\n",
       "    <tr>\n",
       "      <td>1992</td>\n",
       "      <td>-14.469444</td>\n",
       "      <td>-18.658333</td>\n",
       "    </tr>\n",
       "    <tr>\n",
       "      <td>1979</td>\n",
       "      <td>-15.370833</td>\n",
       "      <td>-19.536111</td>\n",
       "    </tr>\n",
       "    <tr>\n",
       "      <td>1996</td>\n",
       "      <td>-13.225000</td>\n",
       "      <td>-16.869444</td>\n",
       "    </tr>\n",
       "    <tr>\n",
       "      <td>2014</td>\n",
       "      <td>-18.483333</td>\n",
       "      <td>-18.483333</td>\n",
       "    </tr>\n",
       "    <tr>\n",
       "      <td>2011</td>\n",
       "      <td>-17.291667</td>\n",
       "      <td>-15.591667</td>\n",
       "    </tr>\n",
       "  </tbody>\n",
       "</table>\n",
       "</div>"
      ],
      "text/plain": [
       "      sub_artic_mean  artic_mean\n",
       "1992      -14.469444  -18.658333\n",
       "1979      -15.370833  -19.536111\n",
       "1996      -13.225000  -16.869444\n",
       "2014      -18.483333  -18.483333\n",
       "2011      -17.291667  -15.591667"
      ]
     },
     "execution_count": 60,
     "metadata": {},
     "output_type": "execute_result"
    }
   ],
   "source": [
    "#sea_ice_can['Northern Canadian Waters sea ice area (millions of square kilometres)']\n",
    "X = yearly_mean_temps_train.loc[:,['sub_artic_mean','artic_mean']]\n",
    "X.head()"
   ]
  },
  {
   "cell_type": "code",
   "execution_count": 61,
   "metadata": {},
   "outputs": [
    {
     "data": {
      "text/plain": [
       "Year\n",
       "1992    1.65\n",
       "1979    1.44\n",
       "1996    1.52\n",
       "2014    1.04\n",
       "2011    0.74\n",
       "Name: sea ice area, dtype: float64"
      ]
     },
     "execution_count": 61,
     "metadata": {},
     "output_type": "execute_result"
    }
   ],
   "source": [
    "Y = sea_ice_can_train.loc[: ,'sea ice area']\n",
    "Y.head()\n"
   ]
  },
  {
   "cell_type": "code",
   "execution_count": 62,
   "metadata": {},
   "outputs": [],
   "source": [
    "from sklearn.linear_model import LinearRegression\n",
    "linreg = LinearRegression()\n"
   ]
  },
  {
   "cell_type": "code",
   "execution_count": 63,
   "metadata": {},
   "outputs": [
    {
     "data": {
      "text/plain": [
       "LinearRegression(copy_X=True, fit_intercept=True, n_jobs=None, normalize=False)"
      ]
     },
     "execution_count": 63,
     "metadata": {},
     "output_type": "execute_result"
    }
   ],
   "source": [
    "linreg.fit(X,Y)"
   ]
  },
  {
   "cell_type": "code",
   "execution_count": 64,
   "metadata": {},
   "outputs": [],
   "source": [
    "Y_actual = sea_ice_can_test\n",
    "Y_predicted = pd.DataFrame(linreg.predict(yearly_mean_temps_test.loc[:,['sub_artic_mean','artic_mean']]),columns=['sea ice area'] ,index=i[(int)(48*7/10):] )"
   ]
  },
  {
   "cell_type": "code",
   "execution_count": 65,
   "metadata": {},
   "outputs": [
    {
     "data": {
      "text/html": [
       "<div>\n",
       "<style scoped>\n",
       "    .dataframe tbody tr th:only-of-type {\n",
       "        vertical-align: middle;\n",
       "    }\n",
       "\n",
       "    .dataframe tbody tr th {\n",
       "        vertical-align: top;\n",
       "    }\n",
       "\n",
       "    .dataframe thead th {\n",
       "        text-align: right;\n",
       "    }\n",
       "</style>\n",
       "<table border=\"1\" class=\"dataframe\">\n",
       "  <thead>\n",
       "    <tr style=\"text-align: right;\">\n",
       "      <th></th>\n",
       "      <th>sea ice area</th>\n",
       "    </tr>\n",
       "    <tr>\n",
       "      <th>Year</th>\n",
       "      <th></th>\n",
       "    </tr>\n",
       "  </thead>\n",
       "  <tbody>\n",
       "    <tr>\n",
       "      <td>2009</td>\n",
       "      <td>1.15</td>\n",
       "    </tr>\n",
       "    <tr>\n",
       "      <td>2004</td>\n",
       "      <td>1.29</td>\n",
       "    </tr>\n",
       "    <tr>\n",
       "      <td>1983</td>\n",
       "      <td>1.62</td>\n",
       "    </tr>\n",
       "    <tr>\n",
       "      <td>1995</td>\n",
       "      <td>1.20</td>\n",
       "    </tr>\n",
       "    <tr>\n",
       "      <td>2007</td>\n",
       "      <td>0.94</td>\n",
       "    </tr>\n",
       "    <tr>\n",
       "      <td>1984</td>\n",
       "      <td>1.47</td>\n",
       "    </tr>\n",
       "    <tr>\n",
       "      <td>1987</td>\n",
       "      <td>1.40</td>\n",
       "    </tr>\n",
       "    <tr>\n",
       "      <td>2002</td>\n",
       "      <td>1.28</td>\n",
       "    </tr>\n",
       "    <tr>\n",
       "      <td>1999</td>\n",
       "      <td>1.11</td>\n",
       "    </tr>\n",
       "    <tr>\n",
       "      <td>1998</td>\n",
       "      <td>0.87</td>\n",
       "    </tr>\n",
       "    <tr>\n",
       "      <td>1977</td>\n",
       "      <td>1.28</td>\n",
       "    </tr>\n",
       "    <tr>\n",
       "      <td>2008</td>\n",
       "      <td>0.91</td>\n",
       "    </tr>\n",
       "    <tr>\n",
       "      <td>2013</td>\n",
       "      <td>1.13</td>\n",
       "    </tr>\n",
       "    <tr>\n",
       "      <td>1993</td>\n",
       "      <td>1.31</td>\n",
       "    </tr>\n",
       "  </tbody>\n",
       "</table>\n",
       "</div>"
      ],
      "text/plain": [
       "      sea ice area\n",
       "Year              \n",
       "2009          1.15\n",
       "2004          1.29\n",
       "1983          1.62\n",
       "1995          1.20\n",
       "2007          0.94\n",
       "1984          1.47\n",
       "1987          1.40\n",
       "2002          1.28\n",
       "1999          1.11\n",
       "1998          0.87\n",
       "1977          1.28\n",
       "2008          0.91\n",
       "2013          1.13\n",
       "1993          1.31"
      ]
     },
     "execution_count": 65,
     "metadata": {},
     "output_type": "execute_result"
    }
   ],
   "source": [
    "Y_actual"
   ]
  },
  {
   "cell_type": "code",
   "execution_count": 66,
   "metadata": {},
   "outputs": [
    {
     "data": {
      "text/html": [
       "<div>\n",
       "<style scoped>\n",
       "    .dataframe tbody tr th:only-of-type {\n",
       "        vertical-align: middle;\n",
       "    }\n",
       "\n",
       "    .dataframe tbody tr th {\n",
       "        vertical-align: top;\n",
       "    }\n",
       "\n",
       "    .dataframe thead th {\n",
       "        text-align: right;\n",
       "    }\n",
       "</style>\n",
       "<table border=\"1\" class=\"dataframe\">\n",
       "  <thead>\n",
       "    <tr style=\"text-align: right;\">\n",
       "      <th></th>\n",
       "      <th>sea ice area</th>\n",
       "    </tr>\n",
       "  </thead>\n",
       "  <tbody>\n",
       "    <tr>\n",
       "      <td>2009</td>\n",
       "      <td>1.190367</td>\n",
       "    </tr>\n",
       "    <tr>\n",
       "      <td>2004</td>\n",
       "      <td>1.516338</td>\n",
       "    </tr>\n",
       "    <tr>\n",
       "      <td>1983</td>\n",
       "      <td>1.352535</td>\n",
       "    </tr>\n",
       "    <tr>\n",
       "      <td>1995</td>\n",
       "      <td>1.323051</td>\n",
       "    </tr>\n",
       "    <tr>\n",
       "      <td>2007</td>\n",
       "      <td>1.019387</td>\n",
       "    </tr>\n",
       "    <tr>\n",
       "      <td>1984</td>\n",
       "      <td>1.510169</td>\n",
       "    </tr>\n",
       "    <tr>\n",
       "      <td>1987</td>\n",
       "      <td>1.516364</td>\n",
       "    </tr>\n",
       "    <tr>\n",
       "      <td>2002</td>\n",
       "      <td>1.203363</td>\n",
       "    </tr>\n",
       "    <tr>\n",
       "      <td>1999</td>\n",
       "      <td>1.110557</td>\n",
       "    </tr>\n",
       "    <tr>\n",
       "      <td>1998</td>\n",
       "      <td>1.068087</td>\n",
       "    </tr>\n",
       "    <tr>\n",
       "      <td>1977</td>\n",
       "      <td>1.396061</td>\n",
       "    </tr>\n",
       "    <tr>\n",
       "      <td>2008</td>\n",
       "      <td>0.998258</td>\n",
       "    </tr>\n",
       "    <tr>\n",
       "      <td>2013</td>\n",
       "      <td>1.429704</td>\n",
       "    </tr>\n",
       "    <tr>\n",
       "      <td>1993</td>\n",
       "      <td>1.284094</td>\n",
       "    </tr>\n",
       "  </tbody>\n",
       "</table>\n",
       "</div>"
      ],
      "text/plain": [
       "      sea ice area\n",
       "2009      1.190367\n",
       "2004      1.516338\n",
       "1983      1.352535\n",
       "1995      1.323051\n",
       "2007      1.019387\n",
       "1984      1.510169\n",
       "1987      1.516364\n",
       "2002      1.203363\n",
       "1999      1.110557\n",
       "1998      1.068087\n",
       "1977      1.396061\n",
       "2008      0.998258\n",
       "2013      1.429704\n",
       "1993      1.284094"
      ]
     },
     "execution_count": 66,
     "metadata": {},
     "output_type": "execute_result"
    }
   ],
   "source": [
    "Y_predicted"
   ]
  },
  {
   "cell_type": "code",
   "execution_count": 67,
   "metadata": {},
   "outputs": [
    {
     "data": {
      "text/plain": [
       "Year\n",
       "2009     3.510169\n",
       "2004    17.545610\n",
       "1983    16.510183\n",
       "1995    10.254278\n",
       "2007     8.445423\n",
       "1984     2.732557\n",
       "1987     8.311731\n",
       "2002     5.987300\n",
       "1999     0.050183\n",
       "1998    22.768585\n",
       "1977     9.067273\n",
       "2008     9.698670\n",
       "2013    26.522502\n",
       "1993     1.977522\n",
       "Name: sea ice area, dtype: float64"
      ]
     },
     "execution_count": 67,
     "metadata": {},
     "output_type": "execute_result"
    }
   ],
   "source": [
    "accuracy = np.abs(Y_actual['sea ice area']-Y_predicted['sea ice area'])/Y_actual['sea ice area']*100\n",
    "accuracy"
   ]
  },
  {
   "cell_type": "code",
   "execution_count": 68,
   "metadata": {},
   "outputs": [
    {
     "name": "stdout",
     "output_type": "stream",
     "text": [
      "accuacy is +/- 26.522502233514416%\n"
     ]
    }
   ],
   "source": [
    "print('accuacy is +/- {0}%'.format(accuracy.max())) # either there is no corrolation or we need a larger data set"
   ]
  },
  {
   "cell_type": "code",
   "execution_count": null,
   "metadata": {},
   "outputs": [],
   "source": []
  },
  {
   "cell_type": "code",
   "execution_count": 69,
   "metadata": {},
   "outputs": [
    {
     "data": {
      "text/plain": [
       "10.241570441491136"
      ]
     },
     "execution_count": 69,
     "metadata": {},
     "output_type": "execute_result"
    }
   ],
   "source": [
    "accuracy.mean()"
   ]
  },
  {
   "cell_type": "code",
   "execution_count": 70,
   "metadata": {},
   "outputs": [],
   "source": [
    "#try using sub regions\n",
    "mean_sea_ice = sea_ice_artic_sub_region.mean(axis=1)"
   ]
  },
  {
   "cell_type": "code",
   "execution_count": 71,
   "metadata": {},
   "outputs": [],
   "source": [
    "mean_sea_ice.index = mean_sea_ice.index.astype(int)"
   ]
  },
  {
   "cell_type": "code",
   "execution_count": 72,
   "metadata": {},
   "outputs": [
    {
     "data": {
      "text/plain": [
       "Year\n",
       "1992    181.555556\n",
       "1979    158.777778\n",
       "1996    169.333333\n",
       "2014    114.888889\n",
       "2011     82.333333\n",
       "dtype: float64"
      ]
     },
     "execution_count": 72,
     "metadata": {},
     "output_type": "execute_result"
    }
   ],
   "source": [
    "mean_sea_ice_train = mean_sea_ice.loc[i[:(int)(48*7/10)]]\n",
    "mean_sea_ice_test = mean_sea_ice.loc[i[(int)(48*7/10):]]\n",
    "mean_sea_ice_train.head()"
   ]
  },
  {
   "cell_type": "code",
   "execution_count": 73,
   "metadata": {},
   "outputs": [],
   "source": [
    "Y = mean_sea_ice_train"
   ]
  },
  {
   "cell_type": "code",
   "execution_count": 74,
   "metadata": {},
   "outputs": [
    {
     "data": {
      "text/plain": [
       "LinearRegression(copy_X=True, fit_intercept=True, n_jobs=None, normalize=False)"
      ]
     },
     "execution_count": 74,
     "metadata": {},
     "output_type": "execute_result"
    }
   ],
   "source": [
    "linreg.fit(X,Y)"
   ]
  },
  {
   "cell_type": "code",
   "execution_count": 75,
   "metadata": {},
   "outputs": [],
   "source": [
    "Y_actual = mean_sea_ice_test\n",
    "Y_predicted = pd.DataFrame(linreg.predict(yearly_mean_temps_test.loc[:,['sub_artic_mean','artic_mean']]),columns=['Mean sea ice'] ,index=i[(int)(48*7/10):] )"
   ]
  },
  {
   "cell_type": "code",
   "execution_count": 76,
   "metadata": {},
   "outputs": [
    {
     "data": {
      "text/html": [
       "<div>\n",
       "<style scoped>\n",
       "    .dataframe tbody tr th:only-of-type {\n",
       "        vertical-align: middle;\n",
       "    }\n",
       "\n",
       "    .dataframe tbody tr th {\n",
       "        vertical-align: top;\n",
       "    }\n",
       "\n",
       "    .dataframe thead th {\n",
       "        text-align: right;\n",
       "    }\n",
       "</style>\n",
       "<table border=\"1\" class=\"dataframe\">\n",
       "  <thead>\n",
       "    <tr style=\"text-align: right;\">\n",
       "      <th></th>\n",
       "      <th>Mean sea ice</th>\n",
       "    </tr>\n",
       "  </thead>\n",
       "  <tbody>\n",
       "    <tr>\n",
       "      <td>2009</td>\n",
       "      <td>131.456696</td>\n",
       "    </tr>\n",
       "    <tr>\n",
       "      <td>2004</td>\n",
       "      <td>166.690311</td>\n",
       "    </tr>\n",
       "    <tr>\n",
       "      <td>1983</td>\n",
       "      <td>148.863972</td>\n",
       "    </tr>\n",
       "    <tr>\n",
       "      <td>1995</td>\n",
       "      <td>145.327544</td>\n",
       "    </tr>\n",
       "    <tr>\n",
       "      <td>2007</td>\n",
       "      <td>112.658821</td>\n",
       "    </tr>\n",
       "    <tr>\n",
       "      <td>1984</td>\n",
       "      <td>166.222382</td>\n",
       "    </tr>\n",
       "    <tr>\n",
       "      <td>1987</td>\n",
       "      <td>166.827720</td>\n",
       "    </tr>\n",
       "    <tr>\n",
       "      <td>2002</td>\n",
       "      <td>132.392013</td>\n",
       "    </tr>\n",
       "    <tr>\n",
       "      <td>1999</td>\n",
       "      <td>122.904793</td>\n",
       "    </tr>\n",
       "    <tr>\n",
       "      <td>1998</td>\n",
       "      <td>117.394736</td>\n",
       "    </tr>\n",
       "    <tr>\n",
       "      <td>1977</td>\n",
       "      <td>153.591282</td>\n",
       "    </tr>\n",
       "    <tr>\n",
       "      <td>2008</td>\n",
       "      <td>110.373315</td>\n",
       "    </tr>\n",
       "    <tr>\n",
       "      <td>2013</td>\n",
       "      <td>158.024156</td>\n",
       "    </tr>\n",
       "    <tr>\n",
       "      <td>1993</td>\n",
       "      <td>141.290742</td>\n",
       "    </tr>\n",
       "  </tbody>\n",
       "</table>\n",
       "</div>"
      ],
      "text/plain": [
       "      Mean sea ice\n",
       "2009    131.456696\n",
       "2004    166.690311\n",
       "1983    148.863972\n",
       "1995    145.327544\n",
       "2007    112.658821\n",
       "1984    166.222382\n",
       "1987    166.827720\n",
       "2002    132.392013\n",
       "1999    122.904793\n",
       "1998    117.394736\n",
       "1977    153.591282\n",
       "2008    110.373315\n",
       "2013    158.024156\n",
       "1993    141.290742"
      ]
     },
     "execution_count": 76,
     "metadata": {},
     "output_type": "execute_result"
    }
   ],
   "source": [
    "Y_predicted"
   ]
  },
  {
   "cell_type": "code",
   "execution_count": 77,
   "metadata": {},
   "outputs": [
    {
     "data": {
      "text/plain": [
       "Year\n",
       "2009    127.111111\n",
       "2004    142.222222\n",
       "1983    177.444444\n",
       "1995    131.666667\n",
       "2007    103.777778\n",
       "1984    162.111111\n",
       "1987    154.333333\n",
       "2002    141.333333\n",
       "1999    122.666667\n",
       "1998     95.111111\n",
       "1977    140.555556\n",
       "2008    100.222222\n",
       "2013    124.111111\n",
       "1993    144.333333\n",
       "dtype: float64"
      ]
     },
     "execution_count": 77,
     "metadata": {},
     "output_type": "execute_result"
    }
   ],
   "source": [
    "Y_actual"
   ]
  },
  {
   "cell_type": "code",
   "execution_count": 78,
   "metadata": {},
   "outputs": [
    {
     "data": {
      "text/plain": [
       "2009     3.418729\n",
       "2004    17.204125\n",
       "1983    16.106716\n",
       "1995    10.375350\n",
       "2007     8.557750\n",
       "1984     2.536082\n",
       "1987     8.095715\n",
       "2002     6.326406\n",
       "1999     0.194125\n",
       "1998    23.429045\n",
       "1977     9.274430\n",
       "2008    10.128584\n",
       "2013    27.324745\n",
       "1993     2.108031\n",
       "Name: Mean sea ice, dtype: float64"
      ]
     },
     "execution_count": 78,
     "metadata": {},
     "output_type": "execute_result"
    }
   ],
   "source": [
    "accuracy = np.abs(Y_actual.values-Y_predicted[\"Mean sea ice\"])/Y_actual.values*100\n",
    "accuracy"
   ]
  },
  {
   "cell_type": "code",
   "execution_count": 79,
   "metadata": {},
   "outputs": [
    {
     "name": "stdout",
     "output_type": "stream",
     "text": [
      "accuacy is +/- 27.324745429069885%\n"
     ]
    }
   ],
   "source": [
    "print('accuacy is +/- {0}%'.format(accuracy.max())) # either there is no corrolation or we need a larger data set"
   ]
  },
  {
   "cell_type": "code",
   "execution_count": 80,
   "metadata": {},
   "outputs": [
    {
     "data": {
      "text/plain": [
       "10.362845207433041"
      ]
     },
     "execution_count": 80,
     "metadata": {},
     "output_type": "execute_result"
    }
   ],
   "source": [
    "accuracy.mean()"
   ]
  },
  {
   "cell_type": "code",
   "execution_count": null,
   "metadata": {},
   "outputs": [],
   "source": []
  }
 ],
 "metadata": {
  "kernelspec": {
   "display_name": "Python 3",
   "language": "python",
   "name": "python3"
  },
  "language_info": {
   "codemirror_mode": {
    "name": "ipython",
    "version": 3
   },
   "file_extension": ".py",
   "mimetype": "text/x-python",
   "name": "python",
   "nbconvert_exporter": "python",
   "pygments_lexer": "ipython3",
   "version": "3.7.3"
  }
 },
 "nbformat": 4,
 "nbformat_minor": 2
}
